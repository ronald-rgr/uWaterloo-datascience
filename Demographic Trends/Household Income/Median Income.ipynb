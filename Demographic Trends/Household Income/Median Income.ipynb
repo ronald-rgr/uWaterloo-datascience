{
 "cells": [
  {
   "cell_type": "code",
   "execution_count": 114,
   "metadata": {},
   "outputs": [],
   "source": [
    "#Imports\n",
    "import pandas as pd\n",
    "import matplotlib.pyplot as plt\n",
    "import seaborn as sns\n",
    "%matplotlib inline\n",
    "import numpy as np\n",
    "from sklearn.model_selection import train_test_split\n",
    "from sklearn.neighbors import KNeighborsClassifier"
   ]
  },
  {
   "cell_type": "code",
   "execution_count": 116,
   "metadata": {},
   "outputs": [
    {
     "data": {
      "text/html": [
       "<div>\n",
       "<style scoped>\n",
       "    .dataframe tbody tr th:only-of-type {\n",
       "        vertical-align: middle;\n",
       "    }\n",
       "\n",
       "    .dataframe tbody tr th {\n",
       "        vertical-align: top;\n",
       "    }\n",
       "\n",
       "    .dataframe thead th {\n",
       "        text-align: right;\n",
       "    }\n",
       "</style>\n",
       "<table border=\"1\" class=\"dataframe\">\n",
       "  <thead>\n",
       "    <tr style=\"text-align: right;\">\n",
       "      <th></th>\n",
       "      <th>2006</th>\n",
       "      <th>2007</th>\n",
       "      <th>2008</th>\n",
       "      <th>2009</th>\n",
       "      <th>2010</th>\n",
       "      <th>2011</th>\n",
       "      <th>2012</th>\n",
       "      <th>2013</th>\n",
       "      <th>2014</th>\n",
       "      <th>2015</th>\n",
       "      <th>2016</th>\n",
       "      <th>2017</th>\n",
       "    </tr>\n",
       "    <tr>\n",
       "      <th>Cities</th>\n",
       "      <th></th>\n",
       "      <th></th>\n",
       "      <th></th>\n",
       "      <th></th>\n",
       "      <th></th>\n",
       "      <th></th>\n",
       "      <th></th>\n",
       "      <th></th>\n",
       "      <th></th>\n",
       "      <th></th>\n",
       "      <th></th>\n",
       "      <th></th>\n",
       "    </tr>\n",
       "  </thead>\n",
       "  <tbody>\n",
       "    <tr>\n",
       "      <th>Canada</th>\n",
       "      <td>57,600</td>\n",
       "      <td>59,000</td>\n",
       "      <td>60,500</td>\n",
       "      <td>60,700</td>\n",
       "      <td>59,800</td>\n",
       "      <td>60,300</td>\n",
       "      <td>61,700</td>\n",
       "      <td>61,900</td>\n",
       "      <td>63,500</td>\n",
       "      <td>63,700</td>\n",
       "      <td>63,400</td>\n",
       "      <td>65,500</td>\n",
       "    </tr>\n",
       "    <tr>\n",
       "      <th>Ê\\rProvinces</th>\n",
       "      <td>NaN</td>\n",
       "      <td>NaN</td>\n",
       "      <td>NaN</td>\n",
       "      <td>NaN</td>\n",
       "      <td>NaN</td>\n",
       "      <td>NaN</td>\n",
       "      <td>NaN</td>\n",
       "      <td>NaN</td>\n",
       "      <td>NaN</td>\n",
       "      <td>NaN</td>\n",
       "      <td>NaN</td>\n",
       "      <td>NaN</td>\n",
       "    </tr>\n",
       "    <tr>\n",
       "      <th>Newfoundland and Labrador</th>\n",
       "      <td>48,800</td>\n",
       "      <td>51,400</td>\n",
       "      <td>52,200</td>\n",
       "      <td>54,100</td>\n",
       "      <td>54,700</td>\n",
       "      <td>55,000</td>\n",
       "      <td>57,500</td>\n",
       "      <td>62,000</td>\n",
       "      <td>63,600</td>\n",
       "      <td>60,900</td>\n",
       "      <td>61,400</td>\n",
       "      <td>59,300</td>\n",
       "    </tr>\n",
       "    <tr>\n",
       "      <th>Prince Edward Island</th>\n",
       "      <td>51,200</td>\n",
       "      <td>53,300</td>\n",
       "      <td>54,800</td>\n",
       "      <td>55,400</td>\n",
       "      <td>55,600</td>\n",
       "      <td>54,200</td>\n",
       "      <td>56,500</td>\n",
       "      <td>56,400</td>\n",
       "      <td>56,400</td>\n",
       "      <td>58,100</td>\n",
       "      <td>56,700</td>\n",
       "      <td>57,700</td>\n",
       "    </tr>\n",
       "    <tr>\n",
       "      <th>Nova Scotia</th>\n",
       "      <td>49,900</td>\n",
       "      <td>52,800</td>\n",
       "      <td>51,200</td>\n",
       "      <td>51,900</td>\n",
       "      <td>52,600</td>\n",
       "      <td>54,100</td>\n",
       "      <td>54,700</td>\n",
       "      <td>54,900</td>\n",
       "      <td>55,500</td>\n",
       "      <td>54,000</td>\n",
       "      <td>55,600</td>\n",
       "      <td>56,200</td>\n",
       "    </tr>\n",
       "  </tbody>\n",
       "</table>\n",
       "</div>"
      ],
      "text/plain": [
       "                             2006    2007    2008    2009    2010    2011  \\\n",
       "Cities                                                                      \n",
       "Canada                     57,600  59,000  60,500  60,700  59,800  60,300   \n",
       "Ê\\rProvinces                  NaN     NaN     NaN     NaN     NaN     NaN   \n",
       "Newfoundland and Labrador  48,800  51,400  52,200  54,100  54,700  55,000   \n",
       "Prince Edward Island       51,200  53,300  54,800  55,400  55,600  54,200   \n",
       "Nova Scotia                49,900  52,800  51,200  51,900  52,600  54,100   \n",
       "\n",
       "                             2012    2013    2014    2015    2016    2017  \n",
       "Cities                                                                     \n",
       "Canada                     61,700  61,900  63,500  63,700  63,400  65,500  \n",
       "Ê\\rProvinces                  NaN     NaN     NaN     NaN     NaN     NaN  \n",
       "Newfoundland and Labrador  57,500  62,000  63,600  60,900  61,400  59,300  \n",
       "Prince Edward Island       56,500  56,400  56,400  58,100  56,700  57,700  \n",
       "Nova Scotia                54,700  54,900  55,500  54,000  55,600  56,200  "
      ]
     },
     "execution_count": 116,
     "metadata": {},
     "output_type": "execute_result"
    }
   ],
   "source": [
    "#Importing the data\n",
    "#loading in the data and showing the first 5 rows.\n",
    "df=pd.read_csv('MedIncomeByCMA2007-2017.csv',encoding='latin-1')\n",
    "df=df.set_index('Cities')\n",
    "df.head()"
   ]
  },
  {
   "cell_type": "code",
   "execution_count": 117,
   "metadata": {},
   "outputs": [
    {
     "data": {
      "text/html": [
       "<div>\n",
       "<style scoped>\n",
       "    .dataframe tbody tr th:only-of-type {\n",
       "        vertical-align: middle;\n",
       "    }\n",
       "\n",
       "    .dataframe tbody tr th {\n",
       "        vertical-align: top;\n",
       "    }\n",
       "\n",
       "    .dataframe thead th {\n",
       "        text-align: right;\n",
       "    }\n",
       "</style>\n",
       "<table border=\"1\" class=\"dataframe\">\n",
       "  <thead>\n",
       "    <tr style=\"text-align: right;\">\n",
       "      <th></th>\n",
       "      <th>2006</th>\n",
       "      <th>2007</th>\n",
       "      <th>2008</th>\n",
       "      <th>2009</th>\n",
       "      <th>2010</th>\n",
       "      <th>2011</th>\n",
       "      <th>2012</th>\n",
       "      <th>2013</th>\n",
       "      <th>2014</th>\n",
       "      <th>2015</th>\n",
       "      <th>2016</th>\n",
       "      <th>2017</th>\n",
       "    </tr>\n",
       "    <tr>\n",
       "      <th>Cities</th>\n",
       "      <th></th>\n",
       "      <th></th>\n",
       "      <th></th>\n",
       "      <th></th>\n",
       "      <th></th>\n",
       "      <th></th>\n",
       "      <th></th>\n",
       "      <th></th>\n",
       "      <th></th>\n",
       "      <th></th>\n",
       "      <th></th>\n",
       "      <th></th>\n",
       "    </tr>\n",
       "  </thead>\n",
       "  <tbody>\n",
       "    <tr>\n",
       "      <th>Toronto</th>\n",
       "      <td>65,000</td>\n",
       "      <td>65,100</td>\n",
       "      <td>68,700</td>\n",
       "      <td>69,200</td>\n",
       "      <td>71,700</td>\n",
       "      <td>68,500</td>\n",
       "      <td>68,200</td>\n",
       "      <td>66,300</td>\n",
       "      <td>69,400</td>\n",
       "      <td>69,400</td>\n",
       "      <td>70,200</td>\n",
       "      <td>75,000</td>\n",
       "    </tr>\n",
       "    <tr>\n",
       "      <th>Vancouver</th>\n",
       "      <td>63,300</td>\n",
       "      <td>64,400</td>\n",
       "      <td>67,000</td>\n",
       "      <td>63,900</td>\n",
       "      <td>62,100</td>\n",
       "      <td>62,900</td>\n",
       "      <td>63,700</td>\n",
       "      <td>66,400</td>\n",
       "      <td>67,800</td>\n",
       "      <td>68,800</td>\n",
       "      <td>71,900</td>\n",
       "      <td>73,100</td>\n",
       "    </tr>\n",
       "    <tr>\n",
       "      <th>Calgary</th>\n",
       "      <td>74,800</td>\n",
       "      <td>78,500</td>\n",
       "      <td>78,900</td>\n",
       "      <td>79,900</td>\n",
       "      <td>79,200</td>\n",
       "      <td>85,300</td>\n",
       "      <td>88,900</td>\n",
       "      <td>91,100</td>\n",
       "      <td>90,500</td>\n",
       "      <td>84,500</td>\n",
       "      <td>77,500</td>\n",
       "      <td>83,000</td>\n",
       "    </tr>\n",
       "  </tbody>\n",
       "</table>\n",
       "</div>"
      ],
      "text/plain": [
       "             2006    2007    2008    2009    2010    2011    2012    2013  \\\n",
       "Cities                                                                      \n",
       "Toronto    65,000  65,100  68,700  69,200  71,700  68,500  68,200  66,300   \n",
       "Vancouver  63,300  64,400  67,000  63,900  62,100  62,900  63,700  66,400   \n",
       "Calgary    74,800  78,500  78,900  79,900  79,200  85,300  88,900  91,100   \n",
       "\n",
       "             2014    2015    2016    2017  \n",
       "Cities                                     \n",
       "Toronto    69,400  69,400  70,200  75,000  \n",
       "Vancouver  67,800  68,800  71,900  73,100  \n",
       "Calgary    90,500  84,500  77,500  83,000  "
      ]
     },
     "execution_count": 117,
     "metadata": {},
     "output_type": "execute_result"
    }
   ],
   "source": [
    "#Getting Data for 3 cities that are being analyzed\n",
    "new_df=df.loc[['Toronto','Vancouver','Calgary'], :]\n",
    "new_df"
   ]
  },
  {
   "cell_type": "code",
   "execution_count": 118,
   "metadata": {},
   "outputs": [
    {
     "data": {
      "text/plain": [
       "pandas.core.frame.DataFrame"
      ]
     },
     "execution_count": 118,
     "metadata": {},
     "output_type": "execute_result"
    }
   ],
   "source": [
    "type(df)"
   ]
  },
  {
   "cell_type": "code",
   "execution_count": 119,
   "metadata": {},
   "outputs": [
    {
     "data": {
      "text/plain": [
       "pandas.core.frame.DataFrame"
      ]
     },
     "execution_count": 119,
     "metadata": {},
     "output_type": "execute_result"
    }
   ],
   "source": [
    "type(new_df)"
   ]
  },
  {
   "cell_type": "code",
   "execution_count": 120,
   "metadata": {},
   "outputs": [],
   "source": [
    "domain_years=[2006,2007,2008,2009,2010,2011,2012,2013,2014,2015,2016,2017]"
   ]
  },
  {
   "cell_type": "code",
   "execution_count": 121,
   "metadata": {},
   "outputs": [],
   "source": [
    "toronto_data=[65000,65100,68700,69200,71700,68500,68200,66300,69400,69400,70200,75000]"
   ]
  },
  {
   "cell_type": "code",
   "execution_count": 122,
   "metadata": {},
   "outputs": [],
   "source": [
    "calgary_data=[74800,78500,78900,79900,79200,85300,88900,91100,90500,84500,77500,83000]"
   ]
  },
  {
   "cell_type": "code",
   "execution_count": 123,
   "metadata": {},
   "outputs": [],
   "source": [
    "vancouver_data=[63300,64400,67000,63900,62100,62900,63700,66400,67800,68800,71900,73100]"
   ]
  },
  {
   "cell_type": "code",
   "execution_count": 127,
   "metadata": {},
   "outputs": [
    {
     "data": {
      "image/png": "[encoded data removed]",
      "text/plain": [
       "<Figure size 720x360 with 1 Axes>"
      ]
     },
     "metadata": {
      "needs_background": "light"
     },
     "output_type": "display_data"
    }
   ],
   "source": [
    "#Plotting the graphs for all the cities median income over 12 years (2006-2017)\n",
    "plt.figure(figsize=(10,5))\n",
    "plt.plot(domain_years, toronto_data, label='Toronto')\n",
    "plt.plot(domain_years, calgary_data, label='Calgary')\n",
    "plt.plot(domain_years, vancouver_data, label='Vancouver')\n",
    "plt.xlabel(\"Years\")\n",
    "plt.ylabel(\"Household Income\")\n",
    "plt.suptitle(\"Median Household Income\")\n",
    "plt.legend()\n",
    "plt.show()"
   ]
  },
  {
   "cell_type": "code",
   "execution_count": 125,
   "metadata": {},
   "outputs": [],
   "source": [
    "#Looking at the graph the trends seen in household income are as follows. Calgary has the highest median of household\n",
    "#income of all three cities by a significant amount, with a peak in 2013 and then a drop in 2013 and the leveling off \n",
    "#again in 2017. Toronto has a slightly higher median household income than Vancouver with a peak back in 2010 and then\n",
    "#a drop going from 2010 to 2012 and then a gradual rise of income with another peak at 2017. Vancouver has the lowest \n",
    "#median household income with a drop in 2010 as well and then a gradual rise of income going up to 2017. In 2016, the\n",
    "#median household income in Vancouver surpassed that of Toronto but the Toronto had a rise in 2017, making it once again\n",
    "#higher than that of Vancouvers. These trends show tha the median household income in the past 10 years has overall been \n",
    "#increasing which allows for homebuyers to increase the mortgate rate or rental rate of their choosing. This also means \n",
    "#that if income is rising, the market prices would also rise."
   ]
  },
  {
   "cell_type": "code",
   "execution_count": null,
   "metadata": {},
   "outputs": [],
   "source": []
  },
  {
   "cell_type": "code",
   "execution_count": null,
   "metadata": {},
   "outputs": [],
   "source": []
  },
  {
   "cell_type": "code",
   "execution_count": null,
   "metadata": {},
   "outputs": [],
   "source": []
  }
 ],
 "metadata": {
  "kernelspec": {
   "display_name": "Python 3",
   "language": "python",
   "name": "python3"
  },
  "language_info": {
   "codemirror_mode": {
    "name": "ipython",
    "version": 3
   },
   "file_extension": ".py",
   "mimetype": "text/x-python",
   "name": "python",
   "nbconvert_exporter": "python",
   "pygments_lexer": "ipython3",
   "version": "3.7.6"
  }
 },
 "nbformat": 4,
 "nbformat_minor": 4
}
