{
 "cells": [
  {
   "cell_type": "markdown",
   "metadata": {},
   "source": [
    "`Immigrated people` in Canada 4 Cities   (`Toronto`, `Vancouver`,`Calgary`, `Montreal` from `2006 to 2019`)**"
   ]
  },
  {
   "cell_type": "code",
   "execution_count": 1,
   "metadata": {},
   "outputs": [],
   "source": [
    "import pandas as pd\n",
    "import matplotlib.pyplot as plt\n",
    "%matplotlib inline"
   ]
  },
  {
   "cell_type": "code",
   "execution_count": 2,
   "metadata": {},
   "outputs": [
    {
     "data": {
      "text/html": [
       "<div>\n",
       "<style scoped>\n",
       "    .dataframe tbody tr th:only-of-type {\n",
       "        vertical-align: middle;\n",
       "    }\n",
       "\n",
       "    .dataframe tbody tr th {\n",
       "        vertical-align: top;\n",
       "    }\n",
       "\n",
       "    .dataframe thead th {\n",
       "        text-align: right;\n",
       "    }\n",
       "</style>\n",
       "<table border=\"1\" class=\"dataframe\">\n",
       "  <thead>\n",
       "    <tr style=\"text-align: right;\">\n",
       "      <th></th>\n",
       "      <th>REF_DATE</th>\n",
       "      <th>GEO</th>\n",
       "      <th>DGUID</th>\n",
       "      <th>Components of population growth</th>\n",
       "      <th>Sex</th>\n",
       "      <th>Age group</th>\n",
       "      <th>UOM</th>\n",
       "      <th>UOM_ID</th>\n",
       "      <th>SCALAR_FACTOR</th>\n",
       "      <th>SCALAR_ID</th>\n",
       "      <th>VECTOR</th>\n",
       "      <th>COORDINATE</th>\n",
       "      <th>VALUE</th>\n",
       "      <th>STATUS</th>\n",
       "      <th>SYMBOL</th>\n",
       "      <th>TERMINATED</th>\n",
       "      <th>DECIMALS</th>\n",
       "    </tr>\n",
       "  </thead>\n",
       "  <tbody>\n",
       "    <tr>\n",
       "      <th>0</th>\n",
       "      <td>2006/2007</td>\n",
       "      <td>Montréal (CMA), Quebec</td>\n",
       "      <td>2016S0503462</td>\n",
       "      <td>Immigrants</td>\n",
       "      <td>Both sexes</td>\n",
       "      <td>All ages</td>\n",
       "      <td>Persons</td>\n",
       "      <td>249</td>\n",
       "      <td>units</td>\n",
       "      <td>0</td>\n",
       "      <td>v1060953769</td>\n",
       "      <td>44.3.1.1</td>\n",
       "      <td>39106</td>\n",
       "      <td>NaN</td>\n",
       "      <td>NaN</td>\n",
       "      <td>NaN</td>\n",
       "      <td>0</td>\n",
       "    </tr>\n",
       "    <tr>\n",
       "      <th>1</th>\n",
       "      <td>2007/2008</td>\n",
       "      <td>Montréal (CMA), Quebec</td>\n",
       "      <td>2016S0503462</td>\n",
       "      <td>Immigrants</td>\n",
       "      <td>Both sexes</td>\n",
       "      <td>All ages</td>\n",
       "      <td>Persons</td>\n",
       "      <td>249</td>\n",
       "      <td>units</td>\n",
       "      <td>0</td>\n",
       "      <td>v1060953769</td>\n",
       "      <td>44.3.1.1</td>\n",
       "      <td>39519</td>\n",
       "      <td>NaN</td>\n",
       "      <td>NaN</td>\n",
       "      <td>NaN</td>\n",
       "      <td>0</td>\n",
       "    </tr>\n",
       "    <tr>\n",
       "      <th>2</th>\n",
       "      <td>2008/2009</td>\n",
       "      <td>Montréal (CMA), Quebec</td>\n",
       "      <td>2016S0503462</td>\n",
       "      <td>Immigrants</td>\n",
       "      <td>Both sexes</td>\n",
       "      <td>All ages</td>\n",
       "      <td>Persons</td>\n",
       "      <td>249</td>\n",
       "      <td>units</td>\n",
       "      <td>0</td>\n",
       "      <td>v1060953769</td>\n",
       "      <td>44.3.1.1</td>\n",
       "      <td>40281</td>\n",
       "      <td>NaN</td>\n",
       "      <td>NaN</td>\n",
       "      <td>NaN</td>\n",
       "      <td>0</td>\n",
       "    </tr>\n",
       "  </tbody>\n",
       "</table>\n",
       "</div>"
      ],
      "text/plain": [
       "    REF_DATE                     GEO         DGUID  \\\n",
       "0  2006/2007  Montréal (CMA), Quebec  2016S0503462   \n",
       "1  2007/2008  Montréal (CMA), Quebec  2016S0503462   \n",
       "2  2008/2009  Montréal (CMA), Quebec  2016S0503462   \n",
       "\n",
       "  Components of population growth         Sex Age group      UOM  UOM_ID  \\\n",
       "0                      Immigrants  Both sexes  All ages  Persons     249   \n",
       "1                      Immigrants  Both sexes  All ages  Persons     249   \n",
       "2                      Immigrants  Both sexes  All ages  Persons     249   \n",
       "\n",
       "  SCALAR_FACTOR  SCALAR_ID       VECTOR COORDINATE  VALUE  STATUS  SYMBOL  \\\n",
       "0         units          0  v1060953769   44.3.1.1  39106     NaN     NaN   \n",
       "1         units          0  v1060953769   44.3.1.1  39519     NaN     NaN   \n",
       "2         units          0  v1060953769   44.3.1.1  40281     NaN     NaN   \n",
       "\n",
       "   TERMINATED  DECIMALS  \n",
       "0         NaN         0  \n",
       "1         NaN         0  \n",
       "2         NaN         0  "
      ]
     },
     "execution_count": 2,
     "metadata": {},
     "output_type": "execute_result"
    }
   ],
   "source": [
    "immigration = pd.read_csv(\"dbImmigrationByCMA2009-2019.csv\")\n",
    "immigration.head(3)"
   ]
  },
  {
   "cell_type": "code",
   "execution_count": 3,
   "metadata": {},
   "outputs": [
    {
     "name": "stdout",
     "output_type": "stream",
     "text": [
      "<class 'pandas.core.frame.DataFrame'>\n",
      "RangeIndex: 78 entries, 0 to 77\n",
      "Data columns (total 17 columns):\n",
      " #   Column                           Non-Null Count  Dtype  \n",
      "---  ------                           --------------  -----  \n",
      " 0   REF_DATE                         78 non-null     object \n",
      " 1   GEO                              78 non-null     object \n",
      " 2   DGUID                            78 non-null     object \n",
      " 3   Components of population growth  78 non-null     object \n",
      " 4   Sex                              78 non-null     object \n",
      " 5   Age group                        78 non-null     object \n",
      " 6   UOM                              78 non-null     object \n",
      " 7   UOM_ID                           78 non-null     int64  \n",
      " 8   SCALAR_FACTOR                    78 non-null     object \n",
      " 9   SCALAR_ID                        78 non-null     int64  \n",
      " 10  VECTOR                           78 non-null     object \n",
      " 11  COORDINATE                       78 non-null     object \n",
      " 12  VALUE                            78 non-null     int64  \n",
      " 13  STATUS                           0 non-null      float64\n",
      " 14  SYMBOL                           0 non-null      float64\n",
      " 15  TERMINATED                       0 non-null      float64\n",
      " 16  DECIMALS                         78 non-null     int64  \n",
      "dtypes: float64(3), int64(4), object(10)\n",
      "memory usage: 10.5+ KB\n"
     ]
    }
   ],
   "source": [
    "immigration.info()"
   ]
  },
  {
   "cell_type": "markdown",
   "metadata": {},
   "source": [
    "**Exploratory Analysis and Cleaning**"
   ]
  },
  {
   "cell_type": "code",
   "execution_count": 4,
   "metadata": {},
   "outputs": [
    {
     "data": {
      "text/plain": [
       "units    78\n",
       "Name: SCALAR_FACTOR, dtype: int64"
      ]
     },
     "execution_count": 4,
     "metadata": {},
     "output_type": "execute_result"
    }
   ],
   "source": [
    "immigration.SCALAR_FACTOR.value_counts() # drop it , does not make sence for analysis purposes"
   ]
  },
  {
   "cell_type": "code",
   "execution_count": 5,
   "metadata": {},
   "outputs": [],
   "source": [
    "immigration = immigration.drop(['SCALAR_FACTOR', 'SCALAR_ID', 'VECTOR', 'COORDINATE','STATUS', 'SYMBOL', 'TERMINATED', 'DECIMALS'], axis = 1)"
   ]
  },
  {
   "cell_type": "code",
   "execution_count": 6,
   "metadata": {},
   "outputs": [],
   "source": [
    "immigration = immigration.drop(['DGUID', 'UOM', 'UOM_ID'], axis = 1)"
   ]
  },
  {
   "cell_type": "code",
   "execution_count": 7,
   "metadata": {},
   "outputs": [
    {
     "data": {
      "text/plain": [
       "Both sexes    78\n",
       "Name: Sex, dtype: int64"
      ]
     },
     "execution_count": 7,
     "metadata": {},
     "output_type": "execute_result"
    }
   ],
   "source": [
    "immigration.Sex.value_counts()  # drop sex column since all values are both sexes, not valuable for analysis"
   ]
  },
  {
   "cell_type": "code",
   "execution_count": 8,
   "metadata": {},
   "outputs": [
    {
     "data": {
      "text/plain": [
       "All ages    78\n",
       "Name: Age group, dtype: int64"
      ]
     },
     "execution_count": 8,
     "metadata": {},
     "output_type": "execute_result"
    }
   ],
   "source": [
    "immigration['Age group'].value_counts() # all values are same , not benefical for analysis.so drop the column."
   ]
  },
  {
   "cell_type": "code",
   "execution_count": 9,
   "metadata": {},
   "outputs": [],
   "source": [
    "immigration =immigration.drop(['Sex', 'Age group'], axis = 1)"
   ]
  },
  {
   "cell_type": "code",
   "execution_count": 10,
   "metadata": {},
   "outputs": [
    {
     "data": {
      "text/plain": [
       "(78, 4)"
      ]
     },
     "execution_count": 10,
     "metadata": {},
     "output_type": "execute_result"
    }
   ],
   "source": [
    "immigration.shape"
   ]
  },
  {
   "cell_type": "code",
   "execution_count": 11,
   "metadata": {},
   "outputs": [
    {
     "data": {
      "text/plain": [
       "['REF_DATE', 'GEO', 'Components of population growth', 'VALUE']"
      ]
     },
     "execution_count": 11,
     "metadata": {},
     "output_type": "execute_result"
    }
   ],
   "source": [
    "immigration.columns.tolist()"
   ]
  },
  {
   "cell_type": "code",
   "execution_count": 12,
   "metadata": {},
   "outputs": [
    {
     "data": {
      "text/plain": [
       "Toronto (CMA), Ontario                     13\n",
       "Edmonton (CMA), Alberta                    13\n",
       "Ottawa - Gatineau (CMA), Ontario/Quebec    13\n",
       "Vancouver (CMA), British Columbia          13\n",
       "Montréal (CMA), Quebec                     13\n",
       "Calgary (CMA), Alberta                     13\n",
       "Name: GEO, dtype: int64"
      ]
     },
     "execution_count": 12,
     "metadata": {},
     "output_type": "execute_result"
    }
   ],
   "source": [
    "immigration.GEO.value_counts()"
   ]
  },
  {
   "cell_type": "markdown",
   "metadata": {},
   "source": [
    "** Filter the data to 3 cities** `Toronto`, `Vancouver`, `Calgary`"
   ]
  },
  {
   "cell_type": "code",
   "execution_count": 17,
   "metadata": {},
   "outputs": [],
   "source": [
    "immigration_toronto   =  immigration.loc[immigration['GEO']=='Toronto (CMA), Ontario']\n",
    "immigration_vancouver = immigration.loc[immigration['GEO']=='Vancouver (CMA), British Columbia']\n",
    "immigration_calgary   = immigration.loc[immigration['GEO']=='Calgary (CMA), Alberta']\n",
    "immigration_montreal  = immigration.loc[immigration['GEO']=='Montréal (CMA), Quebec']"
   ]
  },
  {
   "cell_type": "code",
   "execution_count": 19,
   "metadata": {},
   "outputs": [],
   "source": [
    "immigration_tcvm = pd.concat([immigration_toronto, immigration_Calgary, immigration_vancouver, immigration_montreal],\n",
    "                             axis = 0)"
   ]
  },
  {
   "cell_type": "code",
   "execution_count": 21,
   "metadata": {},
   "outputs": [
    {
     "data": {
      "text/html": [
       "<div>\n",
       "<style scoped>\n",
       "    .dataframe tbody tr th:only-of-type {\n",
       "        vertical-align: middle;\n",
       "    }\n",
       "\n",
       "    .dataframe tbody tr th {\n",
       "        vertical-align: top;\n",
       "    }\n",
       "\n",
       "    .dataframe thead th {\n",
       "        text-align: right;\n",
       "    }\n",
       "</style>\n",
       "<table border=\"1\" class=\"dataframe\">\n",
       "  <thead>\n",
       "    <tr style=\"text-align: right;\">\n",
       "      <th></th>\n",
       "      <th>REF_DATE</th>\n",
       "      <th>GEO</th>\n",
       "      <th>Components of population growth</th>\n",
       "      <th>VALUE</th>\n",
       "    </tr>\n",
       "  </thead>\n",
       "  <tbody>\n",
       "    <tr>\n",
       "      <th>26</th>\n",
       "      <td>2006/2007</td>\n",
       "      <td>Toronto (CMA), Ontario</td>\n",
       "      <td>Immigrants</td>\n",
       "      <td>90501</td>\n",
       "    </tr>\n",
       "    <tr>\n",
       "      <th>27</th>\n",
       "      <td>2007/2008</td>\n",
       "      <td>Toronto (CMA), Ontario</td>\n",
       "      <td>Immigrants</td>\n",
       "      <td>89479</td>\n",
       "    </tr>\n",
       "    <tr>\n",
       "      <th>28</th>\n",
       "      <td>2008/2009</td>\n",
       "      <td>Toronto (CMA), Ontario</td>\n",
       "      <td>Immigrants</td>\n",
       "      <td>82739</td>\n",
       "    </tr>\n",
       "    <tr>\n",
       "      <th>29</th>\n",
       "      <td>2009/2010</td>\n",
       "      <td>Toronto (CMA), Ontario</td>\n",
       "      <td>Immigrants</td>\n",
       "      <td>90961</td>\n",
       "    </tr>\n",
       "    <tr>\n",
       "      <th>30</th>\n",
       "      <td>2010/2011</td>\n",
       "      <td>Toronto (CMA), Ontario</td>\n",
       "      <td>Immigrants</td>\n",
       "      <td>82227</td>\n",
       "    </tr>\n",
       "  </tbody>\n",
       "</table>\n",
       "</div>"
      ],
      "text/plain": [
       "     REF_DATE                     GEO Components of population growth  VALUE\n",
       "26  2006/2007  Toronto (CMA), Ontario                      Immigrants  90501\n",
       "27  2007/2008  Toronto (CMA), Ontario                      Immigrants  89479\n",
       "28  2008/2009  Toronto (CMA), Ontario                      Immigrants  82739\n",
       "29  2009/2010  Toronto (CMA), Ontario                      Immigrants  90961\n",
       "30  2010/2011  Toronto (CMA), Ontario                      Immigrants  82227"
      ]
     },
     "execution_count": 21,
     "metadata": {},
     "output_type": "execute_result"
    }
   ],
   "source": [
    "immigration_tcvm.head()"
   ]
  },
  {
   "cell_type": "code",
   "execution_count": 23,
   "metadata": {},
   "outputs": [
    {
     "data": {
      "text/plain": [
       "(78, 4)"
      ]
     },
     "execution_count": 23,
     "metadata": {},
     "output_type": "execute_result"
    }
   ],
   "source": [
    "immigration.shape"
   ]
  },
  {
   "cell_type": "code",
   "execution_count": 22,
   "metadata": {},
   "outputs": [
    {
     "data": {
      "text/plain": [
       "Immigrants    78\n",
       "Name: Components of population growth, dtype: int64"
      ]
     },
     "execution_count": 22,
     "metadata": {},
     "output_type": "execute_result"
    }
   ],
   "source": [
    "immigration['Components of population growth'].value_counts() "
   ]
  },
  {
   "cell_type": "code",
   "execution_count": 24,
   "metadata": {},
   "outputs": [
    {
     "data": {
      "text/plain": [
       "2006/2007    6\n",
       "2016/2017    6\n",
       "2012/2013    6\n",
       "2017/2018    6\n",
       "2010/2011    6\n",
       "2018/2019    6\n",
       "2009/2010    6\n",
       "2011/2012    6\n",
       "2014/2015    6\n",
       "2015/2016    6\n",
       "2008/2009    6\n",
       "2007/2008    6\n",
       "2013/2014    6\n",
       "Name: REF_DATE, dtype: int64"
      ]
     },
     "execution_count": 24,
     "metadata": {},
     "output_type": "execute_result"
    }
   ],
   "source": [
    "immigration['REF_DATE'].value_counts()"
   ]
  },
  {
   "cell_type": "code",
   "execution_count": 29,
   "metadata": {},
   "outputs": [
    {
     "data": {
      "text/html": [
       "<div>\n",
       "<style scoped>\n",
       "    .dataframe tbody tr th:only-of-type {\n",
       "        vertical-align: middle;\n",
       "    }\n",
       "\n",
       "    .dataframe tbody tr th {\n",
       "        vertical-align: top;\n",
       "    }\n",
       "\n",
       "    .dataframe thead th {\n",
       "        text-align: right;\n",
       "    }\n",
       "</style>\n",
       "<table border=\"1\" class=\"dataframe\">\n",
       "  <thead>\n",
       "    <tr style=\"text-align: right;\">\n",
       "      <th></th>\n",
       "      <th>REF_DATE</th>\n",
       "      <th>GEO</th>\n",
       "      <th>Components of population growth</th>\n",
       "      <th>VALUE</th>\n",
       "    </tr>\n",
       "  </thead>\n",
       "  <tbody>\n",
       "    <tr>\n",
       "      <th>0</th>\n",
       "      <td>2006/2007</td>\n",
       "      <td>Montréal (CMA), Quebec</td>\n",
       "      <td>Immigrants</td>\n",
       "      <td>39106</td>\n",
       "    </tr>\n",
       "    <tr>\n",
       "      <th>1</th>\n",
       "      <td>2007/2008</td>\n",
       "      <td>Montréal (CMA), Quebec</td>\n",
       "      <td>Immigrants</td>\n",
       "      <td>39519</td>\n",
       "    </tr>\n",
       "    <tr>\n",
       "      <th>2</th>\n",
       "      <td>2008/2009</td>\n",
       "      <td>Montréal (CMA), Quebec</td>\n",
       "      <td>Immigrants</td>\n",
       "      <td>40281</td>\n",
       "    </tr>\n",
       "  </tbody>\n",
       "</table>\n",
       "</div>"
      ],
      "text/plain": [
       "    REF_DATE                     GEO Components of population growth  VALUE\n",
       "0  2006/2007  Montréal (CMA), Quebec                      Immigrants  39106\n",
       "1  2007/2008  Montréal (CMA), Quebec                      Immigrants  39519\n",
       "2  2008/2009  Montréal (CMA), Quebec                      Immigrants  40281"
      ]
     },
     "execution_count": 29,
     "metadata": {},
     "output_type": "execute_result"
    }
   ],
   "source": [
    "montreal_imm  = immigration.loc[immigration['GEO']=='Montréal (CMA), Quebec']\n",
    "toronto_imm   = immigration.loc[immigration['GEO']=='Toronto (CMA), Ontario']\n",
    "vancouver_imm = immigration.loc[immigration['GEO']=='Vancouver (CMA), British Columbia']\n",
    "calgary_imm   = immigration.loc[immigration['GEO']=='Calgary (CMA), Alberta']\n",
    "\n",
    "immigration_city = pd.concat([montreal_imm, toronto_imm, vancouver_imm, calgary_imm], axis = 0 )\n",
    "immigration_city.head(3)"
   ]
  },
  {
   "cell_type": "code",
   "execution_count": 30,
   "metadata": {},
   "outputs": [],
   "source": [
    "immigration_table = pd.pivot_table(immigration_city, values = 'VALUE', index = 'REF_DATE', columns = 'GEO', aggfunc = 'mean')"
   ]
  },
  {
   "cell_type": "code",
   "execution_count": 34,
   "metadata": {},
   "outputs": [
    {
     "data": {
      "text/html": [
       "<div>\n",
       "<style scoped>\n",
       "    .dataframe tbody tr th:only-of-type {\n",
       "        vertical-align: middle;\n",
       "    }\n",
       "\n",
       "    .dataframe tbody tr th {\n",
       "        vertical-align: top;\n",
       "    }\n",
       "\n",
       "    .dataframe thead th {\n",
       "        text-align: right;\n",
       "    }\n",
       "</style>\n",
       "<table border=\"1\" class=\"dataframe\">\n",
       "  <thead>\n",
       "    <tr style=\"text-align: right;\">\n",
       "      <th>GEO</th>\n",
       "      <th>Calgary (CMA), Alberta</th>\n",
       "      <th>Montréal (CMA), Quebec</th>\n",
       "      <th>Toronto (CMA), Ontario</th>\n",
       "      <th>Vancouver (CMA), British Columbia</th>\n",
       "    </tr>\n",
       "    <tr>\n",
       "      <th>REF_DATE</th>\n",
       "      <th></th>\n",
       "      <th></th>\n",
       "      <th></th>\n",
       "      <th></th>\n",
       "    </tr>\n",
       "  </thead>\n",
       "  <tbody>\n",
       "    <tr>\n",
       "      <th>2006/2007</th>\n",
       "      <td>11122</td>\n",
       "      <td>39106</td>\n",
       "      <td>90501</td>\n",
       "      <td>32245</td>\n",
       "    </tr>\n",
       "    <tr>\n",
       "      <th>2007/2008</th>\n",
       "      <td>12638</td>\n",
       "      <td>39519</td>\n",
       "      <td>89479</td>\n",
       "      <td>36617</td>\n",
       "    </tr>\n",
       "    <tr>\n",
       "      <th>2008/2009</th>\n",
       "      <td>13356</td>\n",
       "      <td>40281</td>\n",
       "      <td>82739</td>\n",
       "      <td>35977</td>\n",
       "    </tr>\n",
       "    <tr>\n",
       "      <th>2009/2010</th>\n",
       "      <td>14917</td>\n",
       "      <td>44689</td>\n",
       "      <td>90961</td>\n",
       "      <td>36850</td>\n",
       "    </tr>\n",
       "    <tr>\n",
       "      <th>2010/2011</th>\n",
       "      <td>15112</td>\n",
       "      <td>46348</td>\n",
       "      <td>82227</td>\n",
       "      <td>32857</td>\n",
       "    </tr>\n",
       "    <tr>\n",
       "      <th>2011/2012</th>\n",
       "      <td>16024</td>\n",
       "      <td>46761</td>\n",
       "      <td>78391</td>\n",
       "      <td>29630</td>\n",
       "    </tr>\n",
       "    <tr>\n",
       "      <th>2012/2013</th>\n",
       "      <td>17677</td>\n",
       "      <td>47881</td>\n",
       "      <td>83620</td>\n",
       "      <td>29822</td>\n",
       "    </tr>\n",
       "    <tr>\n",
       "      <th>2013/2014</th>\n",
       "      <td>18543</td>\n",
       "      <td>44169</td>\n",
       "      <td>79616</td>\n",
       "      <td>30466</td>\n",
       "    </tr>\n",
       "    <tr>\n",
       "      <th>2014/2015</th>\n",
       "      <td>18543</td>\n",
       "      <td>39167</td>\n",
       "      <td>71207</td>\n",
       "      <td>25159</td>\n",
       "    </tr>\n",
       "    <tr>\n",
       "      <th>2015/2016</th>\n",
       "      <td>24859</td>\n",
       "      <td>46771</td>\n",
       "      <td>91673</td>\n",
       "      <td>34750</td>\n",
       "    </tr>\n",
       "    <tr>\n",
       "      <th>2016/2017</th>\n",
       "      <td>18886</td>\n",
       "      <td>45013</td>\n",
       "      <td>75061</td>\n",
       "      <td>28023</td>\n",
       "    </tr>\n",
       "    <tr>\n",
       "      <th>2017/2018</th>\n",
       "      <td>17425</td>\n",
       "      <td>40648</td>\n",
       "      <td>102740</td>\n",
       "      <td>33295</td>\n",
       "    </tr>\n",
       "    <tr>\n",
       "      <th>2018/2019</th>\n",
       "      <td>18528</td>\n",
       "      <td>37442</td>\n",
       "      <td>105591</td>\n",
       "      <td>34316</td>\n",
       "    </tr>\n",
       "  </tbody>\n",
       "</table>\n",
       "</div>"
      ],
      "text/plain": [
       "GEO        Calgary (CMA), Alberta  Montréal (CMA), Quebec  \\\n",
       "REF_DATE                                                    \n",
       "2006/2007                   11122                   39106   \n",
       "2007/2008                   12638                   39519   \n",
       "2008/2009                   13356                   40281   \n",
       "2009/2010                   14917                   44689   \n",
       "2010/2011                   15112                   46348   \n",
       "2011/2012                   16024                   46761   \n",
       "2012/2013                   17677                   47881   \n",
       "2013/2014                   18543                   44169   \n",
       "2014/2015                   18543                   39167   \n",
       "2015/2016                   24859                   46771   \n",
       "2016/2017                   18886                   45013   \n",
       "2017/2018                   17425                   40648   \n",
       "2018/2019                   18528                   37442   \n",
       "\n",
       "GEO        Toronto (CMA), Ontario  Vancouver (CMA), British Columbia  \n",
       "REF_DATE                                                              \n",
       "2006/2007                   90501                              32245  \n",
       "2007/2008                   89479                              36617  \n",
       "2008/2009                   82739                              35977  \n",
       "2009/2010                   90961                              36850  \n",
       "2010/2011                   82227                              32857  \n",
       "2011/2012                   78391                              29630  \n",
       "2012/2013                   83620                              29822  \n",
       "2013/2014                   79616                              30466  \n",
       "2014/2015                   71207                              25159  \n",
       "2015/2016                   91673                              34750  \n",
       "2016/2017                   75061                              28023  \n",
       "2017/2018                  102740                              33295  \n",
       "2018/2019                  105591                              34316  "
      ]
     },
     "execution_count": 34,
     "metadata": {},
     "output_type": "execute_result"
    }
   ],
   "source": [
    "immigration_table"
   ]
  },
  {
   "cell_type": "code",
   "execution_count": 42,
   "metadata": {},
   "outputs": [
    {
     "data": {
      "text/plain": [
       "<matplotlib.legend.Legend at 0x200bb89ed48>"
      ]
     },
     "execution_count": 42,
     "metadata": {},
     "output_type": "execute_result"
    },
    {
     "data": {
      "image/png": "[encoded data removed]",
      "text/plain": [
       "<Figure size 936x432 with 1 Axes>"
      ]
     },
     "metadata": {
      "needs_background": "light"
     },
     "output_type": "display_data"
    }
   ],
   "source": [
    "immiplot = immigration_table.plot(kind ='bar', title = \"Immigration in Cities\", figsize = (13, 6))\n",
    "immiplot.set_ylabel(\" Avg Immigration\")\n",
    "immiplot.set_xlabel(\" Years\")\n",
    "immiplot.legend(loc = 'best')"
   ]
  },
  {
   "cell_type": "code",
   "execution_count": 44,
   "metadata": {},
   "outputs": [
    {
     "data": {
      "text/plain": [
       "' Graph repersent more immigrant come in Toronto in year 2017 to 2019  although the graph is not showing any upward \\ntrend from 2006 to 2019 eg. 2014-2015 decrement happened. but dataset has no other data to understand that decreament'"
      ]
     },
     "execution_count": 44,
     "metadata": {},
     "output_type": "execute_result"
    }
   ],
   "source": [
    "''' Graph repersent more immigrant come in Toronto in year 2017 to 2019  although the graph is not showing any upward \n",
    "trend from 2006 to 2019 eg. 2014-2015 decrement happened. but dataset has no other data to understand that decreament'''"
   ]
  },
  {
   "cell_type": "code",
   "execution_count": null,
   "metadata": {},
   "outputs": [],
   "source": []
  }
 ],
 "metadata": {
  "kernelspec": {
   "display_name": "Python 3",
   "language": "python",
   "name": "python3"
  },
  "language_info": {
   "codemirror_mode": {
    "name": "ipython",
    "version": 3
   },
   "file_extension": ".py",
   "mimetype": "text/x-python",
   "name": "python",
   "nbconvert_exporter": "python",
   "pygments_lexer": "ipython3",
   "version": "3.7.6"
  }
 },
 "nbformat": 4,
 "nbformat_minor": 4
}
