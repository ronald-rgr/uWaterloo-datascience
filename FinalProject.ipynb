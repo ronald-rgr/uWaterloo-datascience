{
 "cells": [
  {
   "cell_type": "markdown",
   "metadata": {},
   "source": [
    "Group Assignment: Dataset Analysis and Interpretation"
   ]
  },
  {
   "cell_type": "raw",
   "metadata": {},
   "source": [
    "The objective is to \n",
    "    select a data set,\n",
    "    transform and clean it,\n",
    "    conduct a data analysis,\n",
    "    and report key statistical features and insights of the data. \n",
    "\n",
    "regression or classification is fine but is not required."
   ]
  },
  {
   "cell_type": "raw",
   "metadata": {},
   "source": [
    "Each group member is expected to actively engage with their group to complete the assignment submission. \n",
    "\n",
    "If a group member is not contributing as expected, alert your instructors. Individuals will be assessed and grades allocated accordingly.\n",
    "\n",
    "You are responsible for communicating with your group and planning tasks accordingly to complete what is required by the deadline. \n",
    "\n",
    "We recomment to have :\n",
    "    project plan \n",
    "    Agreed by the group \n",
    "    with agreed-upon timelines \n",
    "    Breakdown and share tasks to individuals or smaller groups"
   ]
  },
  {
   "cell_type": "markdown",
   "metadata": {},
   "source": [
    "Grading:"
   ]
  },
  {
   "cell_type": "raw",
   "metadata": {},
   "source": [
    "Part 1: Report is worth 30% of your overall grade for your group’s submission.\n",
    "    Suitability as a report and presentation to management – 10 marks\n",
    "        Spelling\n",
    "        Explanation of any technical terms used\n",
    "        Formatting\n",
    "        Easy to follow\n",
    "    Correctness and thoroughness of analysis – 15 marks\n",
    "        Use of appropriate techniques\n",
    "        Checking that the data meets any assumptions the model or test requires\n",
    "        Correct interpretation\n",
    "    Novelty – 5 marks\n",
    "        Is this an interesting and different analysis?\n",
    "        \n",
    "    Your assignment submission will consist of : \n",
    "        1) A Jupyter notebook file (IPYNB) for the code and data used in the analysis. \n",
    "        2) Report document (DOCX/PDF) - of a quality that is suitable for a management briefing -no more than 15 pages\n",
    "            We expect to see in your report:\n",
    "                1) Project title\n",
    "                2) Group number and group members\n",
    "                3) Objectives - The goal of the analysis is to answer the question ...\n",
    "                4) Data Preparation - source/how, challenges,\n",
    "                5) Analysis - A chart/Graph is worth a thousand words\n",
    "                6) Conclusions \n",
    "        3) plus any supporting files your group sees fit (CSV, XLS, TXT).\n",
    "        \n",
    "Part 2: Discussion is worth 10% of your overall grade for your participation in the Group Assignment Discussion.\n",
    "    - 1-2 page summary paper\n",
    "    - Ask questions, suggest alternative solutions - respectfully critique work of others\n",
    "    - Attend to your classmates’ inquiries about your project.\n",
    "    - Individually graded "
   ]
  },
  {
   "cell_type": "code",
   "execution_count": null,
   "metadata": {},
   "outputs": [],
   "source": []
  }
 ],
 "metadata": {
  "kernelspec": {
   "display_name": "Python 3",
   "language": "python",
   "name": "python3"
  },
  "language_info": {
   "codemirror_mode": {
    "name": "ipython",
    "version": 3
   },
   "file_extension": ".py",
   "mimetype": "text/x-python",
   "name": "python",
   "nbconvert_exporter": "python",
   "pygments_lexer": "ipython3",
   "version": "3.8.3"
  }
 },
 "nbformat": 4,
 "nbformat_minor": 4
}
