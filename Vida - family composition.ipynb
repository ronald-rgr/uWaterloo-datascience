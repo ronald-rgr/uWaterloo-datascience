{
 "cells": [
  {
   "cell_type": "markdown",
   "metadata": {},
   "source": [
    "This notebook contains analysis on family demographics for years 2007 to 2017."
   ]
  },
  {
   "cell_type": "code",
   "execution_count": 1,
   "metadata": {},
   "outputs": [],
   "source": [
    "#Importing packages\n",
    "import numpy as np\n",
    "import pandas as pd\n",
    "\n",
    "import warnings\n",
    "warnings.filterwarnings(\"ignore\")\n",
    "\n",
    "#Importing visualization packages\n",
    "import matplotlib.pyplot as plt\n",
    "%matplotlib inline\n",
    "\n",
    "from matplotlib.ticker import ScalarFormatter\n",
    "\n",
    "import seaborn as sns"
   ]
  },
  {
   "cell_type": "code",
   "execution_count": 2,
   "metadata": {},
   "outputs": [
    {
     "data": {
      "text/html": [
       "<div>\n",
       "<style scoped>\n",
       "    .dataframe tbody tr th:only-of-type {\n",
       "        vertical-align: middle;\n",
       "    }\n",
       "\n",
       "    .dataframe tbody tr th {\n",
       "        vertical-align: top;\n",
       "    }\n",
       "\n",
       "    .dataframe thead th {\n",
       "        text-align: right;\n",
       "    }\n",
       "</style>\n",
       "<table border=\"1\" class=\"dataframe\">\n",
       "  <thead>\n",
       "    <tr style=\"text-align: right;\">\n",
       "      <th></th>\n",
       "      <th>REF_DATE</th>\n",
       "      <th>GEO</th>\n",
       "      <th>DGUID</th>\n",
       "      <th>Family type</th>\n",
       "      <th>Family composition</th>\n",
       "      <th>Parent characteristics</th>\n",
       "      <th>UOM</th>\n",
       "      <th>UOM_ID</th>\n",
       "      <th>SCALAR_FACTOR</th>\n",
       "      <th>SCALAR_ID</th>\n",
       "      <th>VECTOR</th>\n",
       "      <th>COORDINATE</th>\n",
       "      <th>VALUE</th>\n",
       "      <th>STATUS</th>\n",
       "      <th>SYMBOL</th>\n",
       "      <th>TERMINATED</th>\n",
       "      <th>DECIMALS</th>\n",
       "    </tr>\n",
       "  </thead>\n",
       "  <tbody>\n",
       "    <tr>\n",
       "      <th>0</th>\n",
       "      <td>2007</td>\n",
       "      <td>Montréal, Quebec</td>\n",
       "      <td>2016S0503462</td>\n",
       "      <td>All families</td>\n",
       "      <td>Families with or without children</td>\n",
       "      <td>All parental age groups</td>\n",
       "      <td>Number</td>\n",
       "      <td>223</td>\n",
       "      <td>units</td>\n",
       "      <td>0</td>\n",
       "      <td>v21211314</td>\n",
       "      <td>14.1.1.1</td>\n",
       "      <td>998510.0</td>\n",
       "      <td>NaN</td>\n",
       "      <td>NaN</td>\n",
       "      <td>NaN</td>\n",
       "      <td>0</td>\n",
       "    </tr>\n",
       "    <tr>\n",
       "      <th>1</th>\n",
       "      <td>2008</td>\n",
       "      <td>Montréal, Quebec</td>\n",
       "      <td>2016S0503462</td>\n",
       "      <td>All families</td>\n",
       "      <td>Families with or without children</td>\n",
       "      <td>All parental age groups</td>\n",
       "      <td>Number</td>\n",
       "      <td>223</td>\n",
       "      <td>units</td>\n",
       "      <td>0</td>\n",
       "      <td>v21211314</td>\n",
       "      <td>14.1.1.1</td>\n",
       "      <td>1008240.0</td>\n",
       "      <td>NaN</td>\n",
       "      <td>NaN</td>\n",
       "      <td>NaN</td>\n",
       "      <td>0</td>\n",
       "    </tr>\n",
       "    <tr>\n",
       "      <th>2</th>\n",
       "      <td>2009</td>\n",
       "      <td>Montréal, Quebec</td>\n",
       "      <td>2016S0503462</td>\n",
       "      <td>All families</td>\n",
       "      <td>Families with or without children</td>\n",
       "      <td>All parental age groups</td>\n",
       "      <td>Number</td>\n",
       "      <td>223</td>\n",
       "      <td>units</td>\n",
       "      <td>0</td>\n",
       "      <td>v21211314</td>\n",
       "      <td>14.1.1.1</td>\n",
       "      <td>1015770.0</td>\n",
       "      <td>NaN</td>\n",
       "      <td>NaN</td>\n",
       "      <td>NaN</td>\n",
       "      <td>0</td>\n",
       "    </tr>\n",
       "    <tr>\n",
       "      <th>3</th>\n",
       "      <td>2010</td>\n",
       "      <td>Montréal, Quebec</td>\n",
       "      <td>2016S0503462</td>\n",
       "      <td>All families</td>\n",
       "      <td>Families with or without children</td>\n",
       "      <td>All parental age groups</td>\n",
       "      <td>Number</td>\n",
       "      <td>223</td>\n",
       "      <td>units</td>\n",
       "      <td>0</td>\n",
       "      <td>v21211314</td>\n",
       "      <td>14.1.1.1</td>\n",
       "      <td>1025120.0</td>\n",
       "      <td>NaN</td>\n",
       "      <td>NaN</td>\n",
       "      <td>NaN</td>\n",
       "      <td>0</td>\n",
       "    </tr>\n",
       "    <tr>\n",
       "      <th>4</th>\n",
       "      <td>2011</td>\n",
       "      <td>Montréal, Quebec</td>\n",
       "      <td>2016S0503462</td>\n",
       "      <td>All families</td>\n",
       "      <td>Families with or without children</td>\n",
       "      <td>All parental age groups</td>\n",
       "      <td>Number</td>\n",
       "      <td>223</td>\n",
       "      <td>units</td>\n",
       "      <td>0</td>\n",
       "      <td>v21211314</td>\n",
       "      <td>14.1.1.1</td>\n",
       "      <td>1035400.0</td>\n",
       "      <td>NaN</td>\n",
       "      <td>NaN</td>\n",
       "      <td>NaN</td>\n",
       "      <td>0</td>\n",
       "    </tr>\n",
       "  </tbody>\n",
       "</table>\n",
       "</div>"
      ],
      "text/plain": [
       "   REF_DATE               GEO         DGUID   Family type  \\\n",
       "0      2007  Montréal, Quebec  2016S0503462  All families   \n",
       "1      2008  Montréal, Quebec  2016S0503462  All families   \n",
       "2      2009  Montréal, Quebec  2016S0503462  All families   \n",
       "3      2010  Montréal, Quebec  2016S0503462  All families   \n",
       "4      2011  Montréal, Quebec  2016S0503462  All families   \n",
       "\n",
       "                  Family composition   Parent characteristics     UOM  UOM_ID  \\\n",
       "0  Families with or without children  All parental age groups  Number     223   \n",
       "1  Families with or without children  All parental age groups  Number     223   \n",
       "2  Families with or without children  All parental age groups  Number     223   \n",
       "3  Families with or without children  All parental age groups  Number     223   \n",
       "4  Families with or without children  All parental age groups  Number     223   \n",
       "\n",
       "  SCALAR_FACTOR  SCALAR_ID     VECTOR COORDINATE      VALUE  STATUS  SYMBOL  \\\n",
       "0         units          0  v21211314   14.1.1.1   998510.0     NaN     NaN   \n",
       "1         units          0  v21211314   14.1.1.1  1008240.0     NaN     NaN   \n",
       "2         units          0  v21211314   14.1.1.1  1015770.0     NaN     NaN   \n",
       "3         units          0  v21211314   14.1.1.1  1025120.0     NaN     NaN   \n",
       "4         units          0  v21211314   14.1.1.1  1035400.0     NaN     NaN   \n",
       "\n",
       "   TERMINATED  DECIMALS  \n",
       "0         NaN         0  \n",
       "1         NaN         0  \n",
       "2         NaN         0  \n",
       "3         NaN         0  \n",
       "4         NaN         0  "
      ]
     },
     "execution_count": 2,
     "metadata": {},
     "output_type": "execute_result"
    }
   ],
   "source": [
    "#Importing the data as panda dataframe\n",
    "df_comp = pd.read_csv('dbFamilyComposition2007-2017.csv')\n",
    "\n",
    "df_comp.head()"
   ]
  },
  {
   "cell_type": "code",
   "execution_count": 3,
   "metadata": {},
   "outputs": [
    {
     "name": "stdout",
     "output_type": "stream",
     "text": [
      "<class 'pandas.core.frame.DataFrame'>\n",
      "RangeIndex: 4940 entries, 0 to 4939\n",
      "Data columns (total 17 columns):\n",
      " #   Column                  Non-Null Count  Dtype  \n",
      "---  ------                  --------------  -----  \n",
      " 0   REF_DATE                4940 non-null   int64  \n",
      " 1   GEO                     4940 non-null   object \n",
      " 2   DGUID                   4940 non-null   object \n",
      " 3   Family type             4940 non-null   object \n",
      " 4   Family composition      4940 non-null   object \n",
      " 5   Parent characteristics  4940 non-null   object \n",
      " 6   UOM                     4940 non-null   object \n",
      " 7   UOM_ID                  4940 non-null   int64  \n",
      " 8   SCALAR_FACTOR           4940 non-null   object \n",
      " 9   SCALAR_ID               4940 non-null   int64  \n",
      " 10  VECTOR                  4940 non-null   object \n",
      " 11  COORDINATE              4940 non-null   object \n",
      " 12  VALUE                   4940 non-null   float64\n",
      " 13  STATUS                  0 non-null      float64\n",
      " 14  SYMBOL                  0 non-null      float64\n",
      " 15  TERMINATED              0 non-null      float64\n",
      " 16  DECIMALS                4940 non-null   int64  \n",
      "dtypes: float64(4), int64(4), object(9)\n",
      "memory usage: 656.2+ KB\n"
     ]
    }
   ],
   "source": [
    "#Quick look at the data:\n",
    "df_comp.info()"
   ]
  },
  {
   "cell_type": "code",
   "execution_count": 4,
   "metadata": {},
   "outputs": [
    {
     "name": "stdout",
     "output_type": "stream",
     "text": [
      "Unique values in column REF_DATE are: [2007 2008 2009 2010 2011 2012 2013 2014 2015 2016 2017]\n",
      "Unique values in column GEO are: ['Montréal, Quebec' 'Toronto, Ontario' 'Calgary, Alberta'\n",
      " 'Edmonton, Alberta' 'Vancouver, British Columbia'\n",
      " 'Ottawa - Gatineau, combined Ontario/Quebec']\n",
      "Unique values in column DGUID are: ['2016S0503462' '2016S0503535' '2016S0503825' '2016S0503835'\n",
      " '2016S0503933' '2016S0503505']\n",
      "Unique values in column Family type are: ['All families' 'Couple families' 'Lone-parent families']\n",
      "Unique values in column Family composition are: ['Families with or without children' 'Families with no children'\n",
      " 'Families with 1 child' 'Families with 2 children'\n",
      " 'Families with 3 or more children' 'Average family size'\n",
      " 'Average size of families with children']\n",
      "Unique values in column Parent characteristics are: ['All parental age groups' 'Older parent aged 35 to 44 years'\n",
      " 'Older parent aged 65 years and over' 'Median total income']\n",
      "Unique values in column UOM are: ['Number' 'Dollars']\n",
      "Unique values in column UOM_ID are: [223  81]\n",
      "Unique values in column SCALAR_FACTOR are: ['units']\n",
      "Unique values in column SCALAR_ID are: [0]\n",
      "Unique values in column VECTOR are: ['v21211314' 'v21211317' 'v21211320' 'v21211321' 'v21211322' 'v21211325'\n",
      " 'v21211328' 'v21211329' 'v21211330' 'v21211333' 'v21211336' 'v21211337'\n",
      " 'v21211338' 'v21211341' 'v21211344' 'v21211345' 'v21211346' 'v21211349'\n",
      " 'v21211352' 'v21211353' 'v21211354' 'v21211357' 'v21211360' 'v21211361'\n",
      " 'v21211362' 'v21211365' 'v21211368' 'v21211369' 'v21211370' 'v21211373'\n",
      " 'v21211376' 'v21211377' 'v21211378' 'v21211381' 'v21211384' 'v21211385'\n",
      " 'v21211386' 'v21211389' 'v21211392' 'v21211393' 'v21211394' 'v21211397'\n",
      " 'v21211400' 'v21211401' 'v21211402' 'v21211405' 'v21211408' 'v21211409'\n",
      " 'v21211410' 'v21211413' 'v21211416' 'v21211417' 'v21211418' 'v21211421'\n",
      " 'v21211424' 'v21211425' 'v21211426' 'v21211429' 'v21211432' 'v21211433'\n",
      " 'v21211434' 'v21211437' 'v21211440' 'v21211441' 'v21211442' 'v21211445'\n",
      " 'v21211448' 'v21211449' 'v21211450' 'v21211453' 'v21211456' 'v21211457'\n",
      " 'v21211458' 'v21211461' 'v21211464' 'v21211465' 'v21212154' 'v21212157'\n",
      " 'v21212160' 'v21212161' 'v21212162' 'v21212165' 'v21212168' 'v21212169'\n",
      " 'v21212170' 'v21212173' 'v21212176' 'v21212177' 'v21212178' 'v21212181'\n",
      " 'v21212184' 'v21212185' 'v21212186' 'v21212189' 'v21212192' 'v21212193'\n",
      " 'v21212194' 'v21212197' 'v21212200' 'v21212201' 'v21212202' 'v21212205'\n",
      " 'v21212208' 'v21212209' 'v21212210' 'v21212213' 'v21212216' 'v21212217'\n",
      " 'v21212218' 'v21212221' 'v21212224' 'v21212225' 'v21212226' 'v21212229'\n",
      " 'v21212232' 'v21212233' 'v21212234' 'v21212237' 'v21212240' 'v21212241'\n",
      " 'v21212242' 'v21212245' 'v21212248' 'v21212249' 'v21212250' 'v21212253'\n",
      " 'v21212256' 'v21212257' 'v21212258' 'v21212261' 'v21212264' 'v21212265'\n",
      " 'v21212266' 'v21212269' 'v21212272' 'v21212273' 'v21212274' 'v21212277'\n",
      " 'v21212280' 'v21212281' 'v21212282' 'v21212285' 'v21212288' 'v21212289'\n",
      " 'v21212290' 'v21212293' 'v21212296' 'v21212297' 'v21212298' 'v21212301'\n",
      " 'v21212304' 'v21212305' 'v21214506' 'v21214509' 'v21214512' 'v21214513'\n",
      " 'v21214514' 'v21214517' 'v21214520' 'v21214521' 'v21214522' 'v21214525'\n",
      " 'v21214528' 'v21214529' 'v21214530' 'v21214533' 'v21214536' 'v21214537'\n",
      " 'v21214538' 'v21214541' 'v21214544' 'v21214545' 'v21214546' 'v21214549'\n",
      " 'v21214552' 'v21214553' 'v21214554' 'v21214557' 'v21214560' 'v21214561'\n",
      " 'v21214562' 'v21214565' 'v21214568' 'v21214569' 'v21214570' 'v21214573'\n",
      " 'v21214576' 'v21214577' 'v21214578' 'v21214581' 'v21214584' 'v21214585'\n",
      " 'v21214586' 'v21214589' 'v21214592' 'v21214593' 'v21214594' 'v21214597'\n",
      " 'v21214600' 'v21214601' 'v21214602' 'v21214605' 'v21214608' 'v21214609'\n",
      " 'v21214610' 'v21214613' 'v21214616' 'v21214617' 'v21214618' 'v21214621'\n",
      " 'v21214624' 'v21214625' 'v21214626' 'v21214629' 'v21214632' 'v21214633'\n",
      " 'v21214634' 'v21214637' 'v21214640' 'v21214641' 'v21214642' 'v21214645'\n",
      " 'v21214648' 'v21214649' 'v21214650' 'v21214653' 'v21214656' 'v21214657'\n",
      " 'v21214674' 'v21214677' 'v21214680' 'v21214681' 'v21214682' 'v21214685'\n",
      " 'v21214688' 'v21214689' 'v21214690' 'v21214693' 'v21214696' 'v21214697'\n",
      " 'v21214698' 'v21214701' 'v21214704' 'v21214705' 'v21214706' 'v21214709'\n",
      " 'v21214712' 'v21214713' 'v21214714' 'v21214717' 'v21214720' 'v21214721'\n",
      " 'v21214722' 'v21214725' 'v21214728' 'v21214729' 'v21214730' 'v21214733'\n",
      " 'v21214736' 'v21214737' 'v21214738' 'v21214741' 'v21214744' 'v21214745'\n",
      " 'v21214746' 'v21214749' 'v21214752' 'v21214753' 'v21214754' 'v21214757'\n",
      " 'v21214760' 'v21214761' 'v21214762' 'v21214765' 'v21214768' 'v21214769'\n",
      " 'v21214770' 'v21214773' 'v21214776' 'v21214777' 'v21214778' 'v21214781'\n",
      " 'v21214784' 'v21214785' 'v21214786' 'v21214789' 'v21214792' 'v21214793'\n",
      " 'v21214794' 'v21214797' 'v21214800' 'v21214801' 'v21214802' 'v21214805'\n",
      " 'v21214808' 'v21214809' 'v21214810' 'v21214813' 'v21214816' 'v21214817'\n",
      " 'v21214818' 'v21214821' 'v21214824' 'v21214825' 'v21215010' 'v21215013'\n",
      " 'v21215016' 'v21215017' 'v21215018' 'v21215021' 'v21215024' 'v21215025'\n",
      " 'v21215026' 'v21215029' 'v21215032' 'v21215033' 'v21215034' 'v21215037'\n",
      " 'v21215040' 'v21215041' 'v21215042' 'v21215045' 'v21215048' 'v21215049'\n",
      " 'v21215050' 'v21215053' 'v21215056' 'v21215057' 'v21215058' 'v21215061'\n",
      " 'v21215064' 'v21215065' 'v21215066' 'v21215069' 'v21215072' 'v21215073'\n",
      " 'v21215074' 'v21215077' 'v21215080' 'v21215081' 'v21215082' 'v21215085'\n",
      " 'v21215088' 'v21215089' 'v21215090' 'v21215093' 'v21215096' 'v21215097'\n",
      " 'v21215098' 'v21215101' 'v21215104' 'v21215105' 'v21215106' 'v21215109'\n",
      " 'v21215112' 'v21215113' 'v21215114' 'v21215117' 'v21215120' 'v21215121'\n",
      " 'v21215122' 'v21215125' 'v21215128' 'v21215129' 'v21215130' 'v21215133'\n",
      " 'v21215136' 'v21215137' 'v21215138' 'v21215141' 'v21215144' 'v21215145'\n",
      " 'v21215146' 'v21215149' 'v21215152' 'v21215153' 'v21215154' 'v21215157'\n",
      " 'v21215160' 'v21215161' 'v61625532' 'v61625535' 'v61625538' 'v61625539'\n",
      " 'v61625540' 'v61625543' 'v61625546' 'v61625547' 'v61625548' 'v61625551'\n",
      " 'v61625554' 'v61625555' 'v61625556' 'v61625559' 'v61625562' 'v61625563'\n",
      " 'v61625564' 'v61625567' 'v61625570' 'v61625571' 'v61625572' 'v61625575'\n",
      " 'v61625578' 'v61625579' 'v61625580' 'v61625583' 'v61625586' 'v61625587'\n",
      " 'v61625588' 'v61625591' 'v61625594' 'v61625595' 'v61625596' 'v61625599'\n",
      " 'v61625602' 'v61625603' 'v61625604' 'v61625607' 'v61625610' 'v61625611'\n",
      " 'v61625612' 'v61625615' 'v61625618' 'v61625619' 'v61625620' 'v61625623'\n",
      " 'v61625626' 'v61625627' 'v61625628' 'v61625631' 'v61625634' 'v61625635'\n",
      " 'v61625636' 'v61625639' 'v61625642' 'v61625643' 'v61625644' 'v61625647'\n",
      " 'v61625650' 'v61625651' 'v61625652' 'v61625655' 'v61625658' 'v61625659'\n",
      " 'v61625660' 'v61625663' 'v61625666' 'v61625667' 'v61625668' 'v61625671'\n",
      " 'v61625674' 'v61625675' 'v61625676' 'v61625679' 'v61625682' 'v61625683']\n",
      "Unique values in column COORDINATE are: ['14.1.1.1' '14.1.1.4' '14.1.1.7' '14.1.1.8' '14.1.2.1' '14.1.2.4'\n",
      " '14.1.2.7' '14.1.2.8' '14.1.3.1' '14.1.3.4' '14.1.3.7' '14.1.3.8'\n",
      " '14.1.4.1' '14.1.4.4' '14.1.4.7' '14.1.4.8' '14.1.5.1' '14.1.5.4'\n",
      " '14.1.5.7' '14.1.5.8' '14.1.6.1' '14.1.6.4' '14.1.6.7' '14.1.6.8'\n",
      " '14.1.7.1' '14.1.7.4' '14.1.7.7' '14.1.7.8' '14.2.1.1' '14.2.1.4'\n",
      " '14.2.1.7' '14.2.1.8' '14.2.2.1' '14.2.2.4' '14.2.2.7' '14.2.2.8'\n",
      " '14.2.3.1' '14.2.3.4' '14.2.3.7' '14.2.3.8' '14.2.4.1' '14.2.4.4'\n",
      " '14.2.4.7' '14.2.4.8' '14.2.5.1' '14.2.5.4' '14.2.5.7' '14.2.5.8'\n",
      " '14.2.6.1' '14.2.6.4' '14.2.6.7' '14.2.6.8' '14.2.7.1' '14.2.7.4'\n",
      " '14.2.7.7' '14.2.7.8' '14.3.1.1' '14.3.1.4' '14.3.1.7' '14.3.1.8'\n",
      " '14.3.3.1' '14.3.3.4' '14.3.3.7' '14.3.3.8' '14.3.4.1' '14.3.4.4'\n",
      " '14.3.4.7' '14.3.4.8' '14.3.5.1' '14.3.5.4' '14.3.5.7' '14.3.5.8'\n",
      " '14.3.7.1' '14.3.7.4' '14.3.7.7' '14.3.7.8' '19.1.1.1' '19.1.1.4'\n",
      " '19.1.1.7' '19.1.1.8' '19.1.2.1' '19.1.2.4' '19.1.2.7' '19.1.2.8'\n",
      " '19.1.3.1' '19.1.3.4' '19.1.3.7' '19.1.3.8' '19.1.4.1' '19.1.4.4'\n",
      " '19.1.4.7' '19.1.4.8' '19.1.5.1' '19.1.5.4' '19.1.5.7' '19.1.5.8'\n",
      " '19.1.6.1' '19.1.6.4' '19.1.6.7' '19.1.6.8' '19.1.7.1' '19.1.7.4'\n",
      " '19.1.7.7' '19.1.7.8' '19.2.1.1' '19.2.1.4' '19.2.1.7' '19.2.1.8'\n",
      " '19.2.2.1' '19.2.2.4' '19.2.2.7' '19.2.2.8' '19.2.3.1' '19.2.3.4'\n",
      " '19.2.3.7' '19.2.3.8' '19.2.4.1' '19.2.4.4' '19.2.4.7' '19.2.4.8'\n",
      " '19.2.5.1' '19.2.5.4' '19.2.5.7' '19.2.5.8' '19.2.6.1' '19.2.6.4'\n",
      " '19.2.6.7' '19.2.6.8' '19.2.7.1' '19.2.7.4' '19.2.7.7' '19.2.7.8'\n",
      " '19.3.1.1' '19.3.1.4' '19.3.1.7' '19.3.1.8' '19.3.3.1' '19.3.3.4'\n",
      " '19.3.3.7' '19.3.3.8' '19.3.4.1' '19.3.4.4' '19.3.4.7' '19.3.4.8'\n",
      " '19.3.5.1' '19.3.5.4' '19.3.5.7' '19.3.5.8' '19.3.7.1' '19.3.7.4'\n",
      " '19.3.7.7' '19.3.7.8' '33.1.1.1' '33.1.1.4' '33.1.1.7' '33.1.1.8'\n",
      " '33.1.2.1' '33.1.2.4' '33.1.2.7' '33.1.2.8' '33.1.3.1' '33.1.3.4'\n",
      " '33.1.3.7' '33.1.3.8' '33.1.4.1' '33.1.4.4' '33.1.4.7' '33.1.4.8'\n",
      " '33.1.5.1' '33.1.5.4' '33.1.5.7' '33.1.5.8' '33.1.6.1' '33.1.6.4'\n",
      " '33.1.6.7' '33.1.6.8' '33.1.7.1' '33.1.7.4' '33.1.7.7' '33.1.7.8'\n",
      " '33.2.1.1' '33.2.1.4' '33.2.1.7' '33.2.1.8' '33.2.2.1' '33.2.2.4'\n",
      " '33.2.2.7' '33.2.2.8' '33.2.3.1' '33.2.3.4' '33.2.3.7' '33.2.3.8'\n",
      " '33.2.4.1' '33.2.4.4' '33.2.4.7' '33.2.4.8' '33.2.5.1' '33.2.5.4'\n",
      " '33.2.5.7' '33.2.5.8' '33.2.6.1' '33.2.6.4' '33.2.6.7' '33.2.6.8'\n",
      " '33.2.7.1' '33.2.7.4' '33.2.7.7' '33.2.7.8' '33.3.1.1' '33.3.1.4'\n",
      " '33.3.1.7' '33.3.1.8' '33.3.3.1' '33.3.3.4' '33.3.3.7' '33.3.3.8'\n",
      " '33.3.4.1' '33.3.4.4' '33.3.4.7' '33.3.4.8' '33.3.5.1' '33.3.5.4'\n",
      " '33.3.5.7' '33.3.5.8' '33.3.7.1' '33.3.7.4' '33.3.7.7' '33.3.7.8'\n",
      " '34.1.1.1' '34.1.1.4' '34.1.1.7' '34.1.1.8' '34.1.2.1' '34.1.2.4'\n",
      " '34.1.2.7' '34.1.2.8' '34.1.3.1' '34.1.3.4' '34.1.3.7' '34.1.3.8'\n",
      " '34.1.4.1' '34.1.4.4' '34.1.4.7' '34.1.4.8' '34.1.5.1' '34.1.5.4'\n",
      " '34.1.5.7' '34.1.5.8' '34.1.6.1' '34.1.6.4' '34.1.6.7' '34.1.6.8'\n",
      " '34.1.7.1' '34.1.7.4' '34.1.7.7' '34.1.7.8' '34.2.1.1' '34.2.1.4'\n",
      " '34.2.1.7' '34.2.1.8' '34.2.2.1' '34.2.2.4' '34.2.2.7' '34.2.2.8'\n",
      " '34.2.3.1' '34.2.3.4' '34.2.3.7' '34.2.3.8' '34.2.4.1' '34.2.4.4'\n",
      " '34.2.4.7' '34.2.4.8' '34.2.5.1' '34.2.5.4' '34.2.5.7' '34.2.5.8'\n",
      " '34.2.6.1' '34.2.6.4' '34.2.6.7' '34.2.6.8' '34.2.7.1' '34.2.7.4'\n",
      " '34.2.7.7' '34.2.7.8' '34.3.1.1' '34.3.1.4' '34.3.1.7' '34.3.1.8'\n",
      " '34.3.3.1' '34.3.3.4' '34.3.3.7' '34.3.3.8' '34.3.4.1' '34.3.4.4'\n",
      " '34.3.4.7' '34.3.4.8' '34.3.5.1' '34.3.5.4' '34.3.5.7' '34.3.5.8'\n",
      " '34.3.7.1' '34.3.7.4' '34.3.7.7' '34.3.7.8' '36.1.1.1' '36.1.1.4'\n",
      " '36.1.1.7' '36.1.1.8' '36.1.2.1' '36.1.2.4' '36.1.2.7' '36.1.2.8'\n",
      " '36.1.3.1' '36.1.3.4' '36.1.3.7' '36.1.3.8' '36.1.4.1' '36.1.4.4'\n",
      " '36.1.4.7' '36.1.4.8' '36.1.5.1' '36.1.5.4' '36.1.5.7' '36.1.5.8'\n",
      " '36.1.6.1' '36.1.6.4' '36.1.6.7' '36.1.6.8' '36.1.7.1' '36.1.7.4'\n",
      " '36.1.7.7' '36.1.7.8' '36.2.1.1' '36.2.1.4' '36.2.1.7' '36.2.1.8'\n",
      " '36.2.2.1' '36.2.2.4' '36.2.2.7' '36.2.2.8' '36.2.3.1' '36.2.3.4'\n",
      " '36.2.3.7' '36.2.3.8' '36.2.4.1' '36.2.4.4' '36.2.4.7' '36.2.4.8'\n",
      " '36.2.5.1' '36.2.5.4' '36.2.5.7' '36.2.5.8' '36.2.6.1' '36.2.6.4'\n",
      " '36.2.6.7' '36.2.6.8' '36.2.7.1' '36.2.7.4' '36.2.7.7' '36.2.7.8'\n",
      " '36.3.1.1' '36.3.1.4' '36.3.1.7' '36.3.1.8' '36.3.3.1' '36.3.3.4'\n",
      " '36.3.3.7' '36.3.3.8' '36.3.4.1' '36.3.4.4' '36.3.4.7' '36.3.4.8'\n",
      " '36.3.5.1' '36.3.5.4' '36.3.5.7' '36.3.5.8' '36.3.7.1' '36.3.7.4'\n",
      " '36.3.7.7' '36.3.7.8' '177.1.1.1' '177.1.1.4' '177.1.1.7' '177.1.1.8'\n",
      " '177.1.2.1' '177.1.2.4' '177.1.2.7' '177.1.2.8' '177.1.3.1' '177.1.3.4'\n",
      " '177.1.3.7' '177.1.3.8' '177.1.4.1' '177.1.4.4' '177.1.4.7' '177.1.4.8'\n",
      " '177.1.5.1' '177.1.5.4' '177.1.5.7' '177.1.5.8' '177.1.6.1' '177.1.6.4'\n",
      " '177.1.6.7' '177.1.6.8' '177.1.7.1' '177.1.7.4' '177.1.7.7' '177.1.7.8'\n",
      " '177.2.1.1' '177.2.1.4' '177.2.1.7' '177.2.1.8' '177.2.2.1' '177.2.2.4'\n",
      " '177.2.2.7' '177.2.2.8' '177.2.3.1' '177.2.3.4' '177.2.3.7' '177.2.3.8'\n",
      " '177.2.4.1' '177.2.4.4' '177.2.4.7' '177.2.4.8' '177.2.5.1' '177.2.5.4'\n",
      " '177.2.5.7' '177.2.5.8' '177.2.6.1' '177.2.6.4' '177.2.6.7' '177.2.6.8'\n",
      " '177.2.7.1' '177.2.7.4' '177.2.7.7' '177.2.7.8' '177.3.1.1' '177.3.1.4'\n",
      " '177.3.1.7' '177.3.1.8' '177.3.3.1' '177.3.3.4' '177.3.3.7' '177.3.3.8'\n",
      " '177.3.4.1' '177.3.4.4' '177.3.4.7' '177.3.4.8' '177.3.5.1' '177.3.5.4'\n",
      " '177.3.5.7' '177.3.5.8' '177.3.7.1' '177.3.7.4' '177.3.7.7' '177.3.7.8']\n",
      "Unique values in column VALUE are: [ 998510. 1008240. 1015770. ...   44740.   49210.   51050.]\n",
      "Unique values in column STATUS are: [nan]\n",
      "Unique values in column SYMBOL are: [nan]\n",
      "Unique values in column TERMINATED are: [nan]\n",
      "Unique values in column DECIMALS are: [0 1]\n"
     ]
    }
   ],
   "source": [
    "#Checking for columns with only one unique value (they can be dropped since they hold one similar value for all rows):\n",
    "for col in df_comp:\n",
    "    print(\"Unique values in column\", col, \"are:\", df_comp[col].unique())"
   ]
  },
  {
   "cell_type": "code",
   "execution_count": 5,
   "metadata": {},
   "outputs": [
    {
     "name": "stdout",
     "output_type": "stream",
     "text": [
      "<class 'pandas.core.frame.DataFrame'>\n",
      "RangeIndex: 4940 entries, 0 to 4939\n",
      "Data columns (total 6 columns):\n",
      " #   Column                  Non-Null Count  Dtype  \n",
      "---  ------                  --------------  -----  \n",
      " 0   REF_DATE                4940 non-null   int64  \n",
      " 1   GEO                     4940 non-null   object \n",
      " 2   Family type             4940 non-null   object \n",
      " 3   Family composition      4940 non-null   object \n",
      " 4   Parent characteristics  4940 non-null   object \n",
      " 5   VALUE                   4940 non-null   float64\n",
      "dtypes: float64(1), int64(1), object(4)\n",
      "memory usage: 231.7+ KB\n"
     ]
    }
   ],
   "source": [
    "#Dropping the empty columns (columns with 0 non-null count):\n",
    "df_comp = df_comp.drop(['STATUS', 'SYMBOL', 'TERMINATED'], axis=1)\n",
    "\n",
    "#Dropping columns that do not contribute information for the analysis:\n",
    "df_comp = df_comp.drop(['DGUID', 'UOM', 'UOM_ID', 'SCALAR_FACTOR', 'SCALAR_ID', 'VECTOR', 'COORDINATE', 'DECIMALS'], axis=1)\n",
    "\n",
    "df_comp.info()"
   ]
  },
  {
   "cell_type": "code",
   "execution_count": 6,
   "metadata": {},
   "outputs": [
    {
     "data": {
      "text/html": [
       "<div>\n",
       "<style scoped>\n",
       "    .dataframe tbody tr th:only-of-type {\n",
       "        vertical-align: middle;\n",
       "    }\n",
       "\n",
       "    .dataframe tbody tr th {\n",
       "        vertical-align: top;\n",
       "    }\n",
       "\n",
       "    .dataframe thead th {\n",
       "        text-align: right;\n",
       "    }\n",
       "</style>\n",
       "<table border=\"1\" class=\"dataframe\">\n",
       "  <thead>\n",
       "    <tr style=\"text-align: right;\">\n",
       "      <th></th>\n",
       "      <th>REF_DATE</th>\n",
       "      <th>GEO</th>\n",
       "      <th>Family type</th>\n",
       "      <th>Family composition</th>\n",
       "      <th>Parent characteristics</th>\n",
       "      <th>VALUE</th>\n",
       "    </tr>\n",
       "  </thead>\n",
       "  <tbody>\n",
       "    <tr>\n",
       "      <th>0</th>\n",
       "      <td>2007</td>\n",
       "      <td>Montréal, Quebec</td>\n",
       "      <td>All families</td>\n",
       "      <td>Families with or without children</td>\n",
       "      <td>All parental age groups</td>\n",
       "      <td>998510.0</td>\n",
       "    </tr>\n",
       "    <tr>\n",
       "      <th>1</th>\n",
       "      <td>2008</td>\n",
       "      <td>Montréal, Quebec</td>\n",
       "      <td>All families</td>\n",
       "      <td>Families with or without children</td>\n",
       "      <td>All parental age groups</td>\n",
       "      <td>1008240.0</td>\n",
       "    </tr>\n",
       "    <tr>\n",
       "      <th>2</th>\n",
       "      <td>2009</td>\n",
       "      <td>Montréal, Quebec</td>\n",
       "      <td>All families</td>\n",
       "      <td>Families with or without children</td>\n",
       "      <td>All parental age groups</td>\n",
       "      <td>1015770.0</td>\n",
       "    </tr>\n",
       "    <tr>\n",
       "      <th>3</th>\n",
       "      <td>2010</td>\n",
       "      <td>Montréal, Quebec</td>\n",
       "      <td>All families</td>\n",
       "      <td>Families with or without children</td>\n",
       "      <td>All parental age groups</td>\n",
       "      <td>1025120.0</td>\n",
       "    </tr>\n",
       "    <tr>\n",
       "      <th>4</th>\n",
       "      <td>2011</td>\n",
       "      <td>Montréal, Quebec</td>\n",
       "      <td>All families</td>\n",
       "      <td>Families with or without children</td>\n",
       "      <td>All parental age groups</td>\n",
       "      <td>1035400.0</td>\n",
       "    </tr>\n",
       "  </tbody>\n",
       "</table>\n",
       "</div>"
      ],
      "text/plain": [
       "   REF_DATE               GEO   Family type  \\\n",
       "0      2007  Montréal, Quebec  All families   \n",
       "1      2008  Montréal, Quebec  All families   \n",
       "2      2009  Montréal, Quebec  All families   \n",
       "3      2010  Montréal, Quebec  All families   \n",
       "4      2011  Montréal, Quebec  All families   \n",
       "\n",
       "                  Family composition   Parent characteristics      VALUE  \n",
       "0  Families with or without children  All parental age groups   998510.0  \n",
       "1  Families with or without children  All parental age groups  1008240.0  \n",
       "2  Families with or without children  All parental age groups  1015770.0  \n",
       "3  Families with or without children  All parental age groups  1025120.0  \n",
       "4  Families with or without children  All parental age groups  1035400.0  "
      ]
     },
     "execution_count": 6,
     "metadata": {},
     "output_type": "execute_result"
    }
   ],
   "source": [
    "df_comp.head()"
   ]
  },
  {
   "cell_type": "code",
   "execution_count": 7,
   "metadata": {},
   "outputs": [
    {
     "data": {
      "text/plain": [
       "array(['All families', 'Couple families', 'Lone-parent families'],\n",
       "      dtype=object)"
      ]
     },
     "execution_count": 7,
     "metadata": {},
     "output_type": "execute_result"
    }
   ],
   "source": [
    "df_comp['Family type'].unique()"
   ]
  },
  {
   "cell_type": "code",
   "execution_count": 8,
   "metadata": {},
   "outputs": [
    {
     "data": {
      "text/plain": [
       "array(['Families with or without children', 'Families with no children',\n",
       "       'Families with 1 child', 'Families with 2 children',\n",
       "       'Families with 3 or more children', 'Average family size',\n",
       "       'Average size of families with children'], dtype=object)"
      ]
     },
     "execution_count": 8,
     "metadata": {},
     "output_type": "execute_result"
    }
   ],
   "source": [
    "df_comp['Family composition'].unique()"
   ]
  },
  {
   "cell_type": "code",
   "execution_count": 9,
   "metadata": {},
   "outputs": [
    {
     "data": {
      "text/plain": [
       "array(['All parental age groups', 'Older parent aged 35 to 44 years',\n",
       "       'Older parent aged 65 years and over', 'Median total income'],\n",
       "      dtype=object)"
      ]
     },
     "execution_count": 9,
     "metadata": {},
     "output_type": "execute_result"
    }
   ],
   "source": [
    "df_comp['Parent characteristics'].unique()"
   ]
  },
  {
   "cell_type": "code",
   "execution_count": 10,
   "metadata": {},
   "outputs": [
    {
     "data": {
      "text/html": [
       "<div>\n",
       "<style scoped>\n",
       "    .dataframe tbody tr th:only-of-type {\n",
       "        vertical-align: middle;\n",
       "    }\n",
       "\n",
       "    .dataframe tbody tr th {\n",
       "        vertical-align: top;\n",
       "    }\n",
       "\n",
       "    .dataframe thead th {\n",
       "        text-align: right;\n",
       "    }\n",
       "</style>\n",
       "<table border=\"1\" class=\"dataframe\">\n",
       "  <thead>\n",
       "    <tr style=\"text-align: right;\">\n",
       "      <th></th>\n",
       "      <th>REF_DATE</th>\n",
       "      <th>GEO</th>\n",
       "      <th>Family type</th>\n",
       "      <th>Family composition</th>\n",
       "      <th>Parent characteristics</th>\n",
       "      <th>VALUE</th>\n",
       "    </tr>\n",
       "  </thead>\n",
       "  <tbody>\n",
       "    <tr>\n",
       "      <th>880</th>\n",
       "      <td>2007</td>\n",
       "      <td>Toronto, Ontario</td>\n",
       "      <td>All families</td>\n",
       "      <td>Families with no children</td>\n",
       "      <td>All parental age groups</td>\n",
       "      <td>494390.0</td>\n",
       "    </tr>\n",
       "    <tr>\n",
       "      <th>881</th>\n",
       "      <td>2008</td>\n",
       "      <td>Toronto, Ontario</td>\n",
       "      <td>All families</td>\n",
       "      <td>Families with no children</td>\n",
       "      <td>All parental age groups</td>\n",
       "      <td>508330.0</td>\n",
       "    </tr>\n",
       "    <tr>\n",
       "      <th>882</th>\n",
       "      <td>2009</td>\n",
       "      <td>Toronto, Ontario</td>\n",
       "      <td>All families</td>\n",
       "      <td>Families with no children</td>\n",
       "      <td>All parental age groups</td>\n",
       "      <td>521060.0</td>\n",
       "    </tr>\n",
       "    <tr>\n",
       "      <th>883</th>\n",
       "      <td>2010</td>\n",
       "      <td>Toronto, Ontario</td>\n",
       "      <td>All families</td>\n",
       "      <td>Families with no children</td>\n",
       "      <td>All parental age groups</td>\n",
       "      <td>530030.0</td>\n",
       "    </tr>\n",
       "    <tr>\n",
       "      <th>884</th>\n",
       "      <td>2011</td>\n",
       "      <td>Toronto, Ontario</td>\n",
       "      <td>All families</td>\n",
       "      <td>Families with no children</td>\n",
       "      <td>All parental age groups</td>\n",
       "      <td>541170.0</td>\n",
       "    </tr>\n",
       "    <tr>\n",
       "      <th>...</th>\n",
       "      <td>...</td>\n",
       "      <td>...</td>\n",
       "      <td>...</td>\n",
       "      <td>...</td>\n",
       "      <td>...</td>\n",
       "      <td>...</td>\n",
       "    </tr>\n",
       "    <tr>\n",
       "      <th>2503</th>\n",
       "      <td>2013</td>\n",
       "      <td>Calgary, Alberta</td>\n",
       "      <td>Lone-parent families</td>\n",
       "      <td>Average size of families with children</td>\n",
       "      <td>Median total income</td>\n",
       "      <td>51270.0</td>\n",
       "    </tr>\n",
       "    <tr>\n",
       "      <th>2504</th>\n",
       "      <td>2014</td>\n",
       "      <td>Calgary, Alberta</td>\n",
       "      <td>Lone-parent families</td>\n",
       "      <td>Average size of families with children</td>\n",
       "      <td>Median total income</td>\n",
       "      <td>53060.0</td>\n",
       "    </tr>\n",
       "    <tr>\n",
       "      <th>2505</th>\n",
       "      <td>2015</td>\n",
       "      <td>Calgary, Alberta</td>\n",
       "      <td>Lone-parent families</td>\n",
       "      <td>Average size of families with children</td>\n",
       "      <td>Median total income</td>\n",
       "      <td>53630.0</td>\n",
       "    </tr>\n",
       "    <tr>\n",
       "      <th>2506</th>\n",
       "      <td>2016</td>\n",
       "      <td>Calgary, Alberta</td>\n",
       "      <td>Lone-parent families</td>\n",
       "      <td>Average size of families with children</td>\n",
       "      <td>Median total income</td>\n",
       "      <td>53250.0</td>\n",
       "    </tr>\n",
       "    <tr>\n",
       "      <th>2507</th>\n",
       "      <td>2017</td>\n",
       "      <td>Calgary, Alberta</td>\n",
       "      <td>Lone-parent families</td>\n",
       "      <td>Average size of families with children</td>\n",
       "      <td>Median total income</td>\n",
       "      <td>52340.0</td>\n",
       "    </tr>\n",
       "  </tbody>\n",
       "</table>\n",
       "<p>2112 rows × 6 columns</p>\n",
       "</div>"
      ],
      "text/plain": [
       "      REF_DATE               GEO           Family type  \\\n",
       "880       2007  Toronto, Ontario          All families   \n",
       "881       2008  Toronto, Ontario          All families   \n",
       "882       2009  Toronto, Ontario          All families   \n",
       "883       2010  Toronto, Ontario          All families   \n",
       "884       2011  Toronto, Ontario          All families   \n",
       "...        ...               ...                   ...   \n",
       "2503      2013  Calgary, Alberta  Lone-parent families   \n",
       "2504      2014  Calgary, Alberta  Lone-parent families   \n",
       "2505      2015  Calgary, Alberta  Lone-parent families   \n",
       "2506      2016  Calgary, Alberta  Lone-parent families   \n",
       "2507      2017  Calgary, Alberta  Lone-parent families   \n",
       "\n",
       "                          Family composition   Parent characteristics  \\\n",
       "880                Families with no children  All parental age groups   \n",
       "881                Families with no children  All parental age groups   \n",
       "882                Families with no children  All parental age groups   \n",
       "883                Families with no children  All parental age groups   \n",
       "884                Families with no children  All parental age groups   \n",
       "...                                      ...                      ...   \n",
       "2503  Average size of families with children      Median total income   \n",
       "2504  Average size of families with children      Median total income   \n",
       "2505  Average size of families with children      Median total income   \n",
       "2506  Average size of families with children      Median total income   \n",
       "2507  Average size of families with children      Median total income   \n",
       "\n",
       "         VALUE  \n",
       "880   494390.0  \n",
       "881   508330.0  \n",
       "882   521060.0  \n",
       "883   530030.0  \n",
       "884   541170.0  \n",
       "...        ...  \n",
       "2503   51270.0  \n",
       "2504   53060.0  \n",
       "2505   53630.0  \n",
       "2506   53250.0  \n",
       "2507   52340.0  \n",
       "\n",
       "[2112 rows x 6 columns]"
      ]
     },
     "execution_count": 10,
     "metadata": {},
     "output_type": "execute_result"
    }
   ],
   "source": [
    "#The individual categories of families with 0, 1, 2, 3 or more children cover the broad category of \"Families with or \n",
    "#without children\". Therefore, rows of \"Families with or without children\" can be dropped:\n",
    "df1 = df_comp.loc[df_comp['Family composition'] != 'Families with or without children']\n",
    "\n",
    "#Selecting rows of data which contain information on Toronto, Vancouver, and Calgary:\n",
    "df_toronto = df1.loc[df1['GEO'] == 'Toronto, Ontario']\n",
    "df_vancouver = df1.loc[df1['GEO'] == 'Vancouver, British Columbia']\n",
    "df_calgary = df1.loc[df1['GEO'] == 'Calgary, Alberta']\n",
    "\n",
    "df_family = pd.concat([df_toronto, df_vancouver, df_calgary], axis=0)\n",
    "df_family"
   ]
  },
  {
   "cell_type": "markdown",
   "metadata": {},
   "source": [
    "Looking at family compositions (for all families) in the three cities of Toronto, Vancouver, and Calgary:"
   ]
  },
  {
   "cell_type": "code",
   "execution_count": 11,
   "metadata": {},
   "outputs": [
    {
     "data": {
      "text/html": [
       "<div>\n",
       "<style scoped>\n",
       "    .dataframe tbody tr th:only-of-type {\n",
       "        vertical-align: middle;\n",
       "    }\n",
       "\n",
       "    .dataframe tbody tr th {\n",
       "        vertical-align: top;\n",
       "    }\n",
       "\n",
       "    .dataframe thead th {\n",
       "        text-align: right;\n",
       "    }\n",
       "</style>\n",
       "<table border=\"1\" class=\"dataframe\">\n",
       "  <thead>\n",
       "    <tr style=\"text-align: right;\">\n",
       "      <th></th>\n",
       "      <th>REF_DATE</th>\n",
       "      <th>GEO</th>\n",
       "      <th>Family type</th>\n",
       "      <th>Family composition</th>\n",
       "      <th>Parent characteristics</th>\n",
       "      <th>VALUE</th>\n",
       "    </tr>\n",
       "  </thead>\n",
       "  <tbody>\n",
       "    <tr>\n",
       "      <th>880</th>\n",
       "      <td>2007</td>\n",
       "      <td>Toronto, Ontario</td>\n",
       "      <td>All families</td>\n",
       "      <td>Families with no children</td>\n",
       "      <td>All parental age groups</td>\n",
       "      <td>494390.0</td>\n",
       "    </tr>\n",
       "    <tr>\n",
       "      <th>881</th>\n",
       "      <td>2008</td>\n",
       "      <td>Toronto, Ontario</td>\n",
       "      <td>All families</td>\n",
       "      <td>Families with no children</td>\n",
       "      <td>All parental age groups</td>\n",
       "      <td>508330.0</td>\n",
       "    </tr>\n",
       "    <tr>\n",
       "      <th>882</th>\n",
       "      <td>2009</td>\n",
       "      <td>Toronto, Ontario</td>\n",
       "      <td>All families</td>\n",
       "      <td>Families with no children</td>\n",
       "      <td>All parental age groups</td>\n",
       "      <td>521060.0</td>\n",
       "    </tr>\n",
       "    <tr>\n",
       "      <th>883</th>\n",
       "      <td>2010</td>\n",
       "      <td>Toronto, Ontario</td>\n",
       "      <td>All families</td>\n",
       "      <td>Families with no children</td>\n",
       "      <td>All parental age groups</td>\n",
       "      <td>530030.0</td>\n",
       "    </tr>\n",
       "    <tr>\n",
       "      <th>884</th>\n",
       "      <td>2011</td>\n",
       "      <td>Toronto, Ontario</td>\n",
       "      <td>All families</td>\n",
       "      <td>Families with no children</td>\n",
       "      <td>All parental age groups</td>\n",
       "      <td>541170.0</td>\n",
       "    </tr>\n",
       "    <tr>\n",
       "      <th>...</th>\n",
       "      <td>...</td>\n",
       "      <td>...</td>\n",
       "      <td>...</td>\n",
       "      <td>...</td>\n",
       "      <td>...</td>\n",
       "      <td>...</td>\n",
       "    </tr>\n",
       "    <tr>\n",
       "      <th>1854</th>\n",
       "      <td>2013</td>\n",
       "      <td>Calgary, Alberta</td>\n",
       "      <td>All families</td>\n",
       "      <td>Families with 3 or more children</td>\n",
       "      <td>All parental age groups</td>\n",
       "      <td>37770.0</td>\n",
       "    </tr>\n",
       "    <tr>\n",
       "      <th>1855</th>\n",
       "      <td>2014</td>\n",
       "      <td>Calgary, Alberta</td>\n",
       "      <td>All families</td>\n",
       "      <td>Families with 3 or more children</td>\n",
       "      <td>All parental age groups</td>\n",
       "      <td>39030.0</td>\n",
       "    </tr>\n",
       "    <tr>\n",
       "      <th>1856</th>\n",
       "      <td>2015</td>\n",
       "      <td>Calgary, Alberta</td>\n",
       "      <td>All families</td>\n",
       "      <td>Families with 3 or more children</td>\n",
       "      <td>All parental age groups</td>\n",
       "      <td>40380.0</td>\n",
       "    </tr>\n",
       "    <tr>\n",
       "      <th>1857</th>\n",
       "      <td>2016</td>\n",
       "      <td>Calgary, Alberta</td>\n",
       "      <td>All families</td>\n",
       "      <td>Families with 3 or more children</td>\n",
       "      <td>All parental age groups</td>\n",
       "      <td>41440.0</td>\n",
       "    </tr>\n",
       "    <tr>\n",
       "      <th>1858</th>\n",
       "      <td>2017</td>\n",
       "      <td>Calgary, Alberta</td>\n",
       "      <td>All families</td>\n",
       "      <td>Families with 3 or more children</td>\n",
       "      <td>All parental age groups</td>\n",
       "      <td>42910.0</td>\n",
       "    </tr>\n",
       "  </tbody>\n",
       "</table>\n",
       "<p>132 rows × 6 columns</p>\n",
       "</div>"
      ],
      "text/plain": [
       "      REF_DATE               GEO   Family type  \\\n",
       "880       2007  Toronto, Ontario  All families   \n",
       "881       2008  Toronto, Ontario  All families   \n",
       "882       2009  Toronto, Ontario  All families   \n",
       "883       2010  Toronto, Ontario  All families   \n",
       "884       2011  Toronto, Ontario  All families   \n",
       "...        ...               ...           ...   \n",
       "1854      2013  Calgary, Alberta  All families   \n",
       "1855      2014  Calgary, Alberta  All families   \n",
       "1856      2015  Calgary, Alberta  All families   \n",
       "1857      2016  Calgary, Alberta  All families   \n",
       "1858      2017  Calgary, Alberta  All families   \n",
       "\n",
       "                    Family composition   Parent characteristics     VALUE  \n",
       "880          Families with no children  All parental age groups  494390.0  \n",
       "881          Families with no children  All parental age groups  508330.0  \n",
       "882          Families with no children  All parental age groups  521060.0  \n",
       "883          Families with no children  All parental age groups  530030.0  \n",
       "884          Families with no children  All parental age groups  541170.0  \n",
       "...                                ...                      ...       ...  \n",
       "1854  Families with 3 or more children  All parental age groups   37770.0  \n",
       "1855  Families with 3 or more children  All parental age groups   39030.0  \n",
       "1856  Families with 3 or more children  All parental age groups   40380.0  \n",
       "1857  Families with 3 or more children  All parental age groups   41440.0  \n",
       "1858  Families with 3 or more children  All parental age groups   42910.0  \n",
       "\n",
       "[132 rows x 6 columns]"
      ]
     },
     "execution_count": 11,
     "metadata": {},
     "output_type": "execute_result"
    }
   ],
   "source": [
    "#Creating a dataframe without the family compositions of \"Average family size\" and \"Average size of families with children\"\n",
    "#and also with only \"All families\" as family type and for \"All parental age groups\" in parent characteristics:\n",
    "df_familycomp = df_family.loc[(df_family['Family composition'] != 'Average family size') &\n",
    "                             (df_family['Family composition'] != 'Average size of families with children') &\n",
    "                             (df_family['Family type'] == 'All families') &\n",
    "                             (df_family['Parent characteristics'] == 'All parental age groups')]\n",
    "\n",
    "df_familycomp"
   ]
  },
  {
   "cell_type": "code",
   "execution_count": 12,
   "metadata": {},
   "outputs": [
    {
     "data": {
      "image/png": "[encoded data removed]",
      "text/plain": [
       "<Figure size 781.375x360 with 1 Axes>"
      ]
     },
     "metadata": {
      "needs_background": "light"
     },
     "output_type": "display_data"
    }
   ],
   "source": [
    "fig1 = sns.catplot(x='Family composition', y='VALUE', hue='REF_DATE', kind='bar', palette='coolwarm', data=df_familycomp, \n",
    "                   height=5, aspect=10/5)\n",
    "fig1.set(xlabel='Family composition', ylabel='Number of families', \n",
    "         title='Family composition in Toronto, Vancouver, and Calgary')\n",
    "fig1._legend.set_title(\"Year\")\n",
    "fig1.fig.autofmt_xdate();"
   ]
  },
  {
   "cell_type": "markdown",
   "metadata": {},
   "source": [
    "As seen in plot, families with no children show the highest rate of increase in numbers over the years. For quantifying these results:"
   ]
  },
  {
   "cell_type": "code",
   "execution_count": 13,
   "metadata": {},
   "outputs": [
    {
     "data": {
      "text/html": [
       "<div>\n",
       "<style scoped>\n",
       "    .dataframe tbody tr th:only-of-type {\n",
       "        vertical-align: middle;\n",
       "    }\n",
       "\n",
       "    .dataframe tbody tr th {\n",
       "        vertical-align: top;\n",
       "    }\n",
       "\n",
       "    .dataframe thead th {\n",
       "        text-align: right;\n",
       "    }\n",
       "</style>\n",
       "<table border=\"1\" class=\"dataframe\">\n",
       "  <thead>\n",
       "    <tr style=\"text-align: right;\">\n",
       "      <th></th>\n",
       "      <th>Family composition</th>\n",
       "      <th>Percent_Change</th>\n",
       "    </tr>\n",
       "  </thead>\n",
       "  <tbody>\n",
       "    <tr>\n",
       "      <th>0</th>\n",
       "      <td>Families with 1 child</td>\n",
       "      <td>0.009183</td>\n",
       "    </tr>\n",
       "    <tr>\n",
       "      <th>1</th>\n",
       "      <td>Families with 2 children</td>\n",
       "      <td>0.010789</td>\n",
       "    </tr>\n",
       "    <tr>\n",
       "      <th>2</th>\n",
       "      <td>Families with 3 or more children</td>\n",
       "      <td>0.011755</td>\n",
       "    </tr>\n",
       "    <tr>\n",
       "      <th>3</th>\n",
       "      <td>Families with no children</td>\n",
       "      <td>0.022602</td>\n",
       "    </tr>\n",
       "  </tbody>\n",
       "</table>\n",
       "</div>"
      ],
      "text/plain": [
       "                 Family composition  Percent_Change\n",
       "0             Families with 1 child        0.009183\n",
       "1          Families with 2 children        0.010789\n",
       "2  Families with 3 or more children        0.011755\n",
       "3         Families with no children        0.022602"
      ]
     },
     "execution_count": 13,
     "metadata": {},
     "output_type": "execute_result"
    }
   ],
   "source": [
    "#Grouping by family composition and year:\n",
    "df_group1 = df_familycomp.groupby(['Family composition', 'REF_DATE']).VALUE.mean().reset_index()\n",
    "\n",
    "#Calculating percent change for each family composition in each year:\n",
    "df_group1['Percent_Change'] = df_group1['VALUE'].pct_change()\n",
    "\n",
    "#The pct_change() function calculates changes in values compared to their previous row. The year \"2007\" rows can be \n",
    "#dropped since data for their preceding years are not available in the dataframe, and therefore their calculated \n",
    "#pct_change() is meaningless in the context of our analysis.\n",
    "df_group2 = df_group1.loc[df_group1['REF_DATE'] != 2007]\n",
    "\n",
    "#Averaging the percent changes for each family composition:\n",
    "df_group2 = df_group2.groupby(['Family composition']).Percent_Change.mean().reset_index()\n",
    "df_group2"
   ]
  },
  {
   "cell_type": "markdown",
   "metadata": {},
   "source": [
    "As calculated above, while families with no children have a growth rate of 2.3%, the growth rate for families with 1, 2, and 3 or more children are in the range of 0.9% to 1.2%. The growth rate of families with no children has almost been twice as the growth rate of other family compositions from 2007 to 2017."
   ]
  },
  {
   "cell_type": "markdown",
   "metadata": {},
   "source": [
    "The large error bars in the plot above are due to the averaging over the three different cities. For a more accurate understanding, the analysis of growth rate of different family compositions is broken down into individual investigations for each city. For Toronto:"
   ]
  },
  {
   "cell_type": "code",
   "execution_count": 14,
   "metadata": {},
   "outputs": [
    {
     "data": {
      "image/png": "[encoded data removed]",
      "text/plain": [
       "<Figure size 637.375x288 with 1 Axes>"
      ]
     },
     "metadata": {
      "needs_background": "light"
     },
     "output_type": "display_data"
    }
   ],
   "source": [
    "df_familycomp_tor = df_familycomp.loc[(df_familycomp['GEO'] == 'Toronto, Ontario')].reset_index()\n",
    "\n",
    "fig2 = sns.catplot(x='Family composition', y='VALUE', hue='REF_DATE', kind='bar', palette='coolwarm', \n",
    "                   data=df_familycomp_tor, height=4, aspect=8/4)\n",
    "fig2.set(xlabel='Family composition', ylabel='Number of families', title='Family composition in Toronto')\n",
    "fig2._legend.set_title(\"Year\")\n",
    "fig2.fig.autofmt_xdate();"
   ]
  },
  {
   "cell_type": "markdown",
   "metadata": {},
   "source": [
    "In Toronto, families with no children show the most growth while families with 3 or more children show the minimum rate of growth. Results will be quantified following the plots for Vancouver and Calgary.\n",
    "\n",
    "For Vancouver:"
   ]
  },
  {
   "cell_type": "code",
   "execution_count": 15,
   "metadata": {},
   "outputs": [
    {
     "data": {
      "image/png": "[encoded data removed]",
      "text/plain": [
       "<Figure size 637.375x288 with 1 Axes>"
      ]
     },
     "metadata": {
      "needs_background": "light"
     },
     "output_type": "display_data"
    }
   ],
   "source": [
    "df_familycomp_van = df_familycomp.loc[(df_familycomp['GEO'] == 'Vancouver, British Columbia')].reset_index()\n",
    "\n",
    "fig3 = sns.catplot(x='Family composition', y='VALUE', hue='REF_DATE', kind='bar', palette='coolwarm', \n",
    "                   data=df_familycomp_van, height=4, aspect=8/4)\n",
    "fig3.set(xlabel='Family composition', ylabel='Number of families', title='Family composition in Vancouver')\n",
    "fig3._legend.set_title(\"Year\")\n",
    "fig3.fig.autofmt_xdate();"
   ]
  },
  {
   "cell_type": "markdown",
   "metadata": {},
   "source": [
    "In Vancouver, similar to Toronto, families with no children show the most growth while families with 3 or more children have the least amount of growth. Results will be quantified following the plots for Calgary.\n",
    "\n",
    "For Calgary:"
   ]
  },
  {
   "cell_type": "code",
   "execution_count": 16,
   "metadata": {},
   "outputs": [
    {
     "data": {
      "image/png": "[encoded data removed]",
      "text/plain": [
       "<Figure size 637.375x288 with 1 Axes>"
      ]
     },
     "metadata": {
      "needs_background": "light"
     },
     "output_type": "display_data"
    }
   ],
   "source": [
    "df_familycomp_cal = df_familycomp.loc[(df_familycomp['GEO'] == 'Calgary, Alberta')].reset_index()\n",
    "\n",
    "fig2 = sns.catplot(x='Family composition', y='VALUE', hue='REF_DATE', kind='bar', palette='coolwarm', \n",
    "                   data=df_familycomp_cal, height=4, aspect=8/4)\n",
    "fig2.set(xlabel='Family composition', ylabel='Number of families', title='Family composition in Calgary')\n",
    "fig2._legend.set_title(\"Year\")\n",
    "fig2.fig.autofmt_xdate();"
   ]
  },
  {
   "cell_type": "markdown",
   "metadata": {},
   "source": [
    "In Calgary, while families with no children show the most growth similar to the results for Toronto and Vancouver, families with 3 or more children also show a positive rate of growth unlike Toronto and Vancouver. \n",
    "\n",
    "For quantifying the above results:"
   ]
  },
  {
   "cell_type": "code",
   "execution_count": 17,
   "metadata": {},
   "outputs": [
    {
     "data": {
      "text/html": [
       "<div>\n",
       "<style scoped>\n",
       "    .dataframe tbody tr th:only-of-type {\n",
       "        vertical-align: middle;\n",
       "    }\n",
       "\n",
       "    .dataframe tbody tr th {\n",
       "        vertical-align: top;\n",
       "    }\n",
       "\n",
       "    .dataframe thead th {\n",
       "        text-align: right;\n",
       "    }\n",
       "</style>\n",
       "<table border=\"1\" class=\"dataframe\">\n",
       "  <thead>\n",
       "    <tr style=\"text-align: right;\">\n",
       "      <th></th>\n",
       "      <th>GEO</th>\n",
       "      <th>Family composition</th>\n",
       "      <th>Percent_Change</th>\n",
       "    </tr>\n",
       "  </thead>\n",
       "  <tbody>\n",
       "    <tr>\n",
       "      <th>0</th>\n",
       "      <td>Calgary, Alberta</td>\n",
       "      <td>Families with 1 child</td>\n",
       "      <td>0.021260</td>\n",
       "    </tr>\n",
       "    <tr>\n",
       "      <th>1</th>\n",
       "      <td>Calgary, Alberta</td>\n",
       "      <td>Families with 2 children</td>\n",
       "      <td>0.023538</td>\n",
       "    </tr>\n",
       "    <tr>\n",
       "      <th>2</th>\n",
       "      <td>Calgary, Alberta</td>\n",
       "      <td>Families with 3 or more children</td>\n",
       "      <td>0.034791</td>\n",
       "    </tr>\n",
       "    <tr>\n",
       "      <th>3</th>\n",
       "      <td>Calgary, Alberta</td>\n",
       "      <td>Families with no children</td>\n",
       "      <td>0.023796</td>\n",
       "    </tr>\n",
       "    <tr>\n",
       "      <th>4</th>\n",
       "      <td>Toronto, Ontario</td>\n",
       "      <td>Families with 1 child</td>\n",
       "      <td>0.006319</td>\n",
       "    </tr>\n",
       "    <tr>\n",
       "      <th>5</th>\n",
       "      <td>Toronto, Ontario</td>\n",
       "      <td>Families with 2 children</td>\n",
       "      <td>0.008572</td>\n",
       "    </tr>\n",
       "    <tr>\n",
       "      <th>6</th>\n",
       "      <td>Toronto, Ontario</td>\n",
       "      <td>Families with 3 or more children</td>\n",
       "      <td>0.009683</td>\n",
       "    </tr>\n",
       "    <tr>\n",
       "      <th>7</th>\n",
       "      <td>Toronto, Ontario</td>\n",
       "      <td>Families with no children</td>\n",
       "      <td>0.021781</td>\n",
       "    </tr>\n",
       "    <tr>\n",
       "      <th>8</th>\n",
       "      <td>Vancouver, British Columbia</td>\n",
       "      <td>Families with 1 child</td>\n",
       "      <td>0.010582</td>\n",
       "    </tr>\n",
       "    <tr>\n",
       "      <th>9</th>\n",
       "      <td>Vancouver, British Columbia</td>\n",
       "      <td>Families with 2 children</td>\n",
       "      <td>0.009527</td>\n",
       "    </tr>\n",
       "    <tr>\n",
       "      <th>10</th>\n",
       "      <td>Vancouver, British Columbia</td>\n",
       "      <td>Families with 3 or more children</td>\n",
       "      <td>0.002271</td>\n",
       "    </tr>\n",
       "    <tr>\n",
       "      <th>11</th>\n",
       "      <td>Vancouver, British Columbia</td>\n",
       "      <td>Families with no children</td>\n",
       "      <td>0.023768</td>\n",
       "    </tr>\n",
       "  </tbody>\n",
       "</table>\n",
       "</div>"
      ],
      "text/plain": [
       "                            GEO                Family composition  \\\n",
       "0              Calgary, Alberta             Families with 1 child   \n",
       "1              Calgary, Alberta          Families with 2 children   \n",
       "2              Calgary, Alberta  Families with 3 or more children   \n",
       "3              Calgary, Alberta         Families with no children   \n",
       "4              Toronto, Ontario             Families with 1 child   \n",
       "5              Toronto, Ontario          Families with 2 children   \n",
       "6              Toronto, Ontario  Families with 3 or more children   \n",
       "7              Toronto, Ontario         Families with no children   \n",
       "8   Vancouver, British Columbia             Families with 1 child   \n",
       "9   Vancouver, British Columbia          Families with 2 children   \n",
       "10  Vancouver, British Columbia  Families with 3 or more children   \n",
       "11  Vancouver, British Columbia         Families with no children   \n",
       "\n",
       "    Percent_Change  \n",
       "0         0.021260  \n",
       "1         0.023538  \n",
       "2         0.034791  \n",
       "3         0.023796  \n",
       "4         0.006319  \n",
       "5         0.008572  \n",
       "6         0.009683  \n",
       "7         0.021781  \n",
       "8         0.010582  \n",
       "9         0.009527  \n",
       "10        0.002271  \n",
       "11        0.023768  "
      ]
     },
     "execution_count": 17,
     "metadata": {},
     "output_type": "execute_result"
    }
   ],
   "source": [
    "#Grouping by city, family composition, and year:\n",
    "df_group_cities = df_familycomp.groupby(['GEO', 'Family composition', 'REF_DATE']).VALUE.mean().reset_index()\n",
    "\n",
    "#Calculating percent change for each family composition in each year:\n",
    "df_group_cities['Percent_Change'] = df_group_cities['VALUE'].pct_change()\n",
    "\n",
    "#The pct_change() function calculates changes in values compared to their previous row. The year \"2007\" rows can be \n",
    "#dropped since data for their preceding years are not available in the dataframe, and therefore their calculated \n",
    "#pct_change() is meaningless in the context of our analysis.\n",
    "df_group_cities_2 = df_group_cities.loc[df_group_cities['REF_DATE'] != 2007]\n",
    "\n",
    "#Averaging the percent changes for each family composition:\n",
    "df_group_cities_2 = df_group_cities_2.groupby(['GEO', 'Family composition']).Percent_Change.mean().reset_index()\n",
    "df_group_cities_2"
   ]
  },
  {
   "cell_type": "markdown",
   "metadata": {},
   "source": [
    "As calculated above, the growth rate for families with no children is in the same range of 2.2% and 2.4% for all three cities. However, for families with 3 or more children a different trend is observed among the three cities. While for families with 3 or more children, Toronto and Vancouver show average growth rates of 1% and 0.2%, respectively, Calgary shows a significant difference with an average growth rate of 3.5% for families with 3 or more children. \n",
    "\n",
    "In general, and as shown in calculations below, the average growth rate for all family compositions in Calgary are more than twice the respective values in Toronto and Vancouver. While the average growth rate for all family compositions is 2.6% for Calgary, this value is equal to only 1.1% for both Toronto and Vancouver (calculations below)."
   ]
  },
  {
   "cell_type": "code",
   "execution_count": 18,
   "metadata": {},
   "outputs": [
    {
     "data": {
      "text/html": [
       "<div>\n",
       "<style scoped>\n",
       "    .dataframe tbody tr th:only-of-type {\n",
       "        vertical-align: middle;\n",
       "    }\n",
       "\n",
       "    .dataframe tbody tr th {\n",
       "        vertical-align: top;\n",
       "    }\n",
       "\n",
       "    .dataframe thead th {\n",
       "        text-align: right;\n",
       "    }\n",
       "</style>\n",
       "<table border=\"1\" class=\"dataframe\">\n",
       "  <thead>\n",
       "    <tr style=\"text-align: right;\">\n",
       "      <th></th>\n",
       "      <th>GEO</th>\n",
       "      <th>Percent_Change</th>\n",
       "    </tr>\n",
       "  </thead>\n",
       "  <tbody>\n",
       "    <tr>\n",
       "      <th>0</th>\n",
       "      <td>Calgary, Alberta</td>\n",
       "      <td>0.025846</td>\n",
       "    </tr>\n",
       "    <tr>\n",
       "      <th>1</th>\n",
       "      <td>Toronto, Ontario</td>\n",
       "      <td>0.011589</td>\n",
       "    </tr>\n",
       "    <tr>\n",
       "      <th>2</th>\n",
       "      <td>Vancouver, British Columbia</td>\n",
       "      <td>0.011537</td>\n",
       "    </tr>\n",
       "  </tbody>\n",
       "</table>\n",
       "</div>"
      ],
      "text/plain": [
       "                           GEO  Percent_Change\n",
       "0             Calgary, Alberta        0.025846\n",
       "1             Toronto, Ontario        0.011589\n",
       "2  Vancouver, British Columbia        0.011537"
      ]
     },
     "execution_count": 18,
     "metadata": {},
     "output_type": "execute_result"
    }
   ],
   "source": [
    "df_group_cities_3 = df_group_cities_2.groupby(['GEO']).Percent_Change.mean().reset_index()\n",
    "df_group_cities_3"
   ]
  },
  {
   "cell_type": "markdown",
   "metadata": {},
   "source": [
    "The growth rates of couple-families and lone parent families can also be explored:"
   ]
  },
  {
   "cell_type": "code",
   "execution_count": 19,
   "metadata": {},
   "outputs": [
    {
     "data": {
      "text/html": [
       "<div>\n",
       "<style scoped>\n",
       "    .dataframe tbody tr th:only-of-type {\n",
       "        vertical-align: middle;\n",
       "    }\n",
       "\n",
       "    .dataframe tbody tr th {\n",
       "        vertical-align: top;\n",
       "    }\n",
       "\n",
       "    .dataframe thead th {\n",
       "        text-align: right;\n",
       "    }\n",
       "</style>\n",
       "<table border=\"1\" class=\"dataframe\">\n",
       "  <thead>\n",
       "    <tr style=\"text-align: right;\">\n",
       "      <th></th>\n",
       "      <th>REF_DATE</th>\n",
       "      <th>GEO</th>\n",
       "      <th>Family type</th>\n",
       "      <th>Family composition</th>\n",
       "      <th>Parent characteristics</th>\n",
       "      <th>VALUE</th>\n",
       "    </tr>\n",
       "  </thead>\n",
       "  <tbody>\n",
       "    <tr>\n",
       "      <th>1188</th>\n",
       "      <td>2007</td>\n",
       "      <td>Toronto, Ontario</td>\n",
       "      <td>Couple families</td>\n",
       "      <td>Families with no children</td>\n",
       "      <td>All parental age groups</td>\n",
       "      <td>494390.0</td>\n",
       "    </tr>\n",
       "    <tr>\n",
       "      <th>1189</th>\n",
       "      <td>2008</td>\n",
       "      <td>Toronto, Ontario</td>\n",
       "      <td>Couple families</td>\n",
       "      <td>Families with no children</td>\n",
       "      <td>All parental age groups</td>\n",
       "      <td>508330.0</td>\n",
       "    </tr>\n",
       "    <tr>\n",
       "      <th>1190</th>\n",
       "      <td>2009</td>\n",
       "      <td>Toronto, Ontario</td>\n",
       "      <td>Couple families</td>\n",
       "      <td>Families with no children</td>\n",
       "      <td>All parental age groups</td>\n",
       "      <td>521060.0</td>\n",
       "    </tr>\n",
       "    <tr>\n",
       "      <th>1191</th>\n",
       "      <td>2010</td>\n",
       "      <td>Toronto, Ontario</td>\n",
       "      <td>Couple families</td>\n",
       "      <td>Families with no children</td>\n",
       "      <td>All parental age groups</td>\n",
       "      <td>530030.0</td>\n",
       "    </tr>\n",
       "    <tr>\n",
       "      <th>1192</th>\n",
       "      <td>2011</td>\n",
       "      <td>Toronto, Ontario</td>\n",
       "      <td>Couple families</td>\n",
       "      <td>Families with no children</td>\n",
       "      <td>All parental age groups</td>\n",
       "      <td>541170.0</td>\n",
       "    </tr>\n",
       "    <tr>\n",
       "      <th>...</th>\n",
       "      <td>...</td>\n",
       "      <td>...</td>\n",
       "      <td>...</td>\n",
       "      <td>...</td>\n",
       "      <td>...</td>\n",
       "      <td>...</td>\n",
       "    </tr>\n",
       "    <tr>\n",
       "      <th>2426</th>\n",
       "      <td>2013</td>\n",
       "      <td>Calgary, Alberta</td>\n",
       "      <td>Lone-parent families</td>\n",
       "      <td>Families with 3 or more children</td>\n",
       "      <td>All parental age groups</td>\n",
       "      <td>4680.0</td>\n",
       "    </tr>\n",
       "    <tr>\n",
       "      <th>2427</th>\n",
       "      <td>2014</td>\n",
       "      <td>Calgary, Alberta</td>\n",
       "      <td>Lone-parent families</td>\n",
       "      <td>Families with 3 or more children</td>\n",
       "      <td>All parental age groups</td>\n",
       "      <td>4740.0</td>\n",
       "    </tr>\n",
       "    <tr>\n",
       "      <th>2428</th>\n",
       "      <td>2015</td>\n",
       "      <td>Calgary, Alberta</td>\n",
       "      <td>Lone-parent families</td>\n",
       "      <td>Families with 3 or more children</td>\n",
       "      <td>All parental age groups</td>\n",
       "      <td>5040.0</td>\n",
       "    </tr>\n",
       "    <tr>\n",
       "      <th>2429</th>\n",
       "      <td>2016</td>\n",
       "      <td>Calgary, Alberta</td>\n",
       "      <td>Lone-parent families</td>\n",
       "      <td>Families with 3 or more children</td>\n",
       "      <td>All parental age groups</td>\n",
       "      <td>5120.0</td>\n",
       "    </tr>\n",
       "    <tr>\n",
       "      <th>2430</th>\n",
       "      <td>2017</td>\n",
       "      <td>Calgary, Alberta</td>\n",
       "      <td>Lone-parent families</td>\n",
       "      <td>Families with 3 or more children</td>\n",
       "      <td>All parental age groups</td>\n",
       "      <td>5830.0</td>\n",
       "    </tr>\n",
       "  </tbody>\n",
       "</table>\n",
       "<p>231 rows × 6 columns</p>\n",
       "</div>"
      ],
      "text/plain": [
       "      REF_DATE               GEO           Family type  \\\n",
       "1188      2007  Toronto, Ontario       Couple families   \n",
       "1189      2008  Toronto, Ontario       Couple families   \n",
       "1190      2009  Toronto, Ontario       Couple families   \n",
       "1191      2010  Toronto, Ontario       Couple families   \n",
       "1192      2011  Toronto, Ontario       Couple families   \n",
       "...        ...               ...                   ...   \n",
       "2426      2013  Calgary, Alberta  Lone-parent families   \n",
       "2427      2014  Calgary, Alberta  Lone-parent families   \n",
       "2428      2015  Calgary, Alberta  Lone-parent families   \n",
       "2429      2016  Calgary, Alberta  Lone-parent families   \n",
       "2430      2017  Calgary, Alberta  Lone-parent families   \n",
       "\n",
       "                    Family composition   Parent characteristics     VALUE  \n",
       "1188         Families with no children  All parental age groups  494390.0  \n",
       "1189         Families with no children  All parental age groups  508330.0  \n",
       "1190         Families with no children  All parental age groups  521060.0  \n",
       "1191         Families with no children  All parental age groups  530030.0  \n",
       "1192         Families with no children  All parental age groups  541170.0  \n",
       "...                                ...                      ...       ...  \n",
       "2426  Families with 3 or more children  All parental age groups    4680.0  \n",
       "2427  Families with 3 or more children  All parental age groups    4740.0  \n",
       "2428  Families with 3 or more children  All parental age groups    5040.0  \n",
       "2429  Families with 3 or more children  All parental age groups    5120.0  \n",
       "2430  Families with 3 or more children  All parental age groups    5830.0  \n",
       "\n",
       "[231 rows x 6 columns]"
      ]
     },
     "execution_count": 19,
     "metadata": {},
     "output_type": "execute_result"
    }
   ],
   "source": [
    "#Creating a dataframe without the family compositions of \"Average family size\" and \"Average size of families with children\"\n",
    "#and also with only \"couple families\" and \"lone-parent families\" as family type (without \"all families\")\n",
    "#and for \"All parental age groups\" in parent characteristics:\n",
    "df_couple_lone = df_family.loc[(df_family['Family composition'] != 'Average family size') &\n",
    "                             (df_family['Family composition'] != 'Average size of families with children') &\n",
    "                             (df_family['Family type'] != 'All families') &\n",
    "                             (df_family['Parent characteristics'] == 'All parental age groups')]\n",
    "\n",
    "df_couple_lone"
   ]
  },
  {
   "cell_type": "code",
   "execution_count": 20,
   "metadata": {},
   "outputs": [
    {
     "data": {
      "image/png": "[encoded data removed]",
      "text/plain": [
       "<Figure size 637.375x288 with 1 Axes>"
      ]
     },
     "metadata": {
      "needs_background": "light"
     },
     "output_type": "display_data"
    }
   ],
   "source": [
    "fig5 = sns.catplot(x='Family type', y='VALUE', hue='REF_DATE', kind='bar', palette='coolwarm', data=df_couple_lone, \n",
    "                   height=4, aspect=8/4)\n",
    "fig5.set(xlabel='Family type', ylabel='Number of families')\n",
    "fig5._legend.set_title(\"Year\")\n",
    "fig5.fig.autofmt_xdate();"
   ]
  },
  {
   "cell_type": "markdown",
   "metadata": {},
   "source": [
    "Couple families tend to have a steady increasing growth rate, while lone-parent families do not seem to have any significant growth over the years. For quantifying these observations:"
   ]
  },
  {
   "cell_type": "code",
   "execution_count": 21,
   "metadata": {},
   "outputs": [
    {
     "data": {
      "text/html": [
       "<div>\n",
       "<style scoped>\n",
       "    .dataframe tbody tr th:only-of-type {\n",
       "        vertical-align: middle;\n",
       "    }\n",
       "\n",
       "    .dataframe tbody tr th {\n",
       "        vertical-align: top;\n",
       "    }\n",
       "\n",
       "    .dataframe thead th {\n",
       "        text-align: right;\n",
       "    }\n",
       "</style>\n",
       "<table border=\"1\" class=\"dataframe\">\n",
       "  <thead>\n",
       "    <tr style=\"text-align: right;\">\n",
       "      <th></th>\n",
       "      <th>Family type</th>\n",
       "      <th>VALUE</th>\n",
       "    </tr>\n",
       "  </thead>\n",
       "  <tbody>\n",
       "    <tr>\n",
       "      <th>0</th>\n",
       "      <td>Couple families</td>\n",
       "      <td>187530.303030</td>\n",
       "    </tr>\n",
       "    <tr>\n",
       "      <th>1</th>\n",
       "      <td>Lone-parent families</td>\n",
       "      <td>39792.323232</td>\n",
       "    </tr>\n",
       "  </tbody>\n",
       "</table>\n",
       "</div>"
      ],
      "text/plain": [
       "            Family type          VALUE\n",
       "0       Couple families  187530.303030\n",
       "1  Lone-parent families   39792.323232"
      ]
     },
     "execution_count": 21,
     "metadata": {},
     "output_type": "execute_result"
    }
   ],
   "source": [
    "#Grouping by family type:\n",
    "df_group3 = df_couple_lone.groupby(['Family type']).VALUE.mean().reset_index()\n",
    "df_group3"
   ]
  },
  {
   "cell_type": "markdown",
   "metadata": {},
   "source": [
    "While the average number of couple families is 187,500, this count drops down to 39,800 for lone-parent families."
   ]
  },
  {
   "cell_type": "code",
   "execution_count": 22,
   "metadata": {},
   "outputs": [
    {
     "data": {
      "image/png": "[encoded data removed]",
      "text/plain": [
       "<Figure size 715x288 with 1 Axes>"
      ]
     },
     "metadata": {
      "needs_background": "light"
     },
     "output_type": "display_data"
    }
   ],
   "source": [
    "#Grouping by family type and year:\n",
    "df_group4 = df_couple_lone.groupby(['Family type', 'REF_DATE']).VALUE.mean().reset_index()\n",
    "\n",
    "#Calculating percent change for each family type in each year:\n",
    "df_group4['Percent_Change'] = df_group4['VALUE'].pct_change()\n",
    "\n",
    "#The pct_change() function calculates changes in values compared to their previous row. The year \"2007\" rows can be \n",
    "#dropped since data for their preceding years are not available in the dataframe, and therefore their calculated \n",
    "#pct_change() is meaningless in the context of our analysis.\n",
    "df_group5 = df_group4.loc[df_group4['REF_DATE'] != 2007]\n",
    "\n",
    "fig6 = sns.catplot(x='REF_DATE', y='Percent_Change', hue='Family type', kind='point', data=df_group5, \n",
    "                   height=4, aspect=8/4)\n",
    "fig6.set(xlabel='Year', ylabel='Percent change')\n",
    "fig6._legend.set_title(\"Family type\")\n",
    "fig6.fig.autofmt_xdate();"
   ]
  },
  {
   "cell_type": "markdown",
   "metadata": {},
   "source": [
    "While the growth rate of couple families is higher than the growth rate of lone-parent families in most years, in 2017, the growth rate of lone-parent families jumps to more than 5 times of growth rate of couple families."
   ]
  },
  {
   "cell_type": "code",
   "execution_count": 23,
   "metadata": {},
   "outputs": [
    {
     "data": {
      "text/html": [
       "<div>\n",
       "<style scoped>\n",
       "    .dataframe tbody tr th:only-of-type {\n",
       "        vertical-align: middle;\n",
       "    }\n",
       "\n",
       "    .dataframe tbody tr th {\n",
       "        vertical-align: top;\n",
       "    }\n",
       "\n",
       "    .dataframe thead th {\n",
       "        text-align: right;\n",
       "    }\n",
       "</style>\n",
       "<table border=\"1\" class=\"dataframe\">\n",
       "  <thead>\n",
       "    <tr style=\"text-align: right;\">\n",
       "      <th></th>\n",
       "      <th>Family type</th>\n",
       "      <th>Percent_Change</th>\n",
       "    </tr>\n",
       "  </thead>\n",
       "  <tbody>\n",
       "    <tr>\n",
       "      <th>0</th>\n",
       "      <td>Couple families</td>\n",
       "      <td>0.015489</td>\n",
       "    </tr>\n",
       "    <tr>\n",
       "      <th>1</th>\n",
       "      <td>Lone-parent families</td>\n",
       "      <td>0.010400</td>\n",
       "    </tr>\n",
       "  </tbody>\n",
       "</table>\n",
       "</div>"
      ],
      "text/plain": [
       "            Family type  Percent_Change\n",
       "0       Couple families        0.015489\n",
       "1  Lone-parent families        0.010400"
      ]
     },
     "execution_count": 23,
     "metadata": {},
     "output_type": "execute_result"
    }
   ],
   "source": [
    "#Averaging the percent changes for each family type:\n",
    "df_group5 = df_group5.groupby(['Family type']).Percent_Change.mean().reset_index()\n",
    "df_group5"
   ]
  },
  {
   "cell_type": "markdown",
   "metadata": {},
   "source": [
    "On average, the growth rate of couple families is 1.5%, 0.5% higher than the average growth rate of lone-parent families."
   ]
  },
  {
   "cell_type": "markdown",
   "metadata": {},
   "source": [
    "Exploring the changes in average family size from 2007 to 2017 in each of the three cities:"
   ]
  },
  {
   "cell_type": "code",
   "execution_count": 24,
   "metadata": {},
   "outputs": [
    {
     "data": {
      "image/png": "[encoded data removed]",
      "text/plain": [
       "<Figure size 493.375x216 with 1 Axes>"
      ]
     },
     "metadata": {
      "needs_background": "light"
     },
     "output_type": "display_data"
    }
   ],
   "source": [
    "#Creating a dataframe with the family compositions of \"Average family size\" and also with \n",
    "#only \"All families\" as family type and for \"All parental age groups\" in parent characteristics:\n",
    "df_familysize = df_family.loc[(df_family['Family composition'] == 'Average family size') &\n",
    "                             (df_family['Family type'] == 'All families') &\n",
    "                             (df_family['Parent characteristics'] == 'All parental age groups')]\n",
    "\n",
    "fig7 = sns.catplot(x='GEO', y='VALUE', hue='REF_DATE', kind='bar', palette='Spectral', \n",
    "                   data=df_familysize, height=3, aspect=6/3)\n",
    "fig7.set(xlabel='City', ylabel='Average family size')\n",
    "fig7._legend.set_title(\"Year\")\n",
    "fig7.fig.autofmt_xdate();"
   ]
  },
  {
   "cell_type": "markdown",
   "metadata": {},
   "source": [
    "As seen, the average family size in all three cities has not had significant changes over the years and has hovered around an average size of 3 through all years investigated here. Breaking this analysis down to average size of families with children:"
   ]
  },
  {
   "cell_type": "code",
   "execution_count": 25,
   "metadata": {},
   "outputs": [
    {
     "data": {
      "image/png": "[encoded data removed]",
      "text/plain": [
       "<Figure size 493.375x216 with 1 Axes>"
      ]
     },
     "metadata": {
      "needs_background": "light"
     },
     "output_type": "display_data"
    }
   ],
   "source": [
    "#Creating a dataframe with the family compositions of \"Average size of families with children\" and also \n",
    "#with only \"All families\" as family type and for \"All parental age groups\" in parent characteristics:\n",
    "df_familysize_withchild = df_family.loc[(df_family['Family composition'] == 'Average size of families with children') &\n",
    "                             (df_family['Family type'] == 'All families') &\n",
    "                             (df_family['Parent characteristics'] == 'All parental age groups')]\n",
    "\n",
    "fig8 = sns.catplot(x='GEO', y='VALUE', hue='REF_DATE', kind='bar', palette='Spectral',\n",
    "                   data=df_familysize_withchild, height=3, aspect=6/3)\n",
    "fig8.set(xlabel='City', ylabel='Average size of families with children')\n",
    "fig8._legend.set_title(\"Year\")\n",
    "fig8.fig.autofmt_xdate();"
   ]
  },
  {
   "cell_type": "markdown",
   "metadata": {},
   "source": [
    "Similar to average size for all families, average size of families with children also has remained unchanged throughout the years in all three cities."
   ]
  },
  {
   "cell_type": "markdown",
   "metadata": {},
   "source": [
    "For insight on relationships between income and family compositions, the dataset is further explored below."
   ]
  },
  {
   "cell_type": "code",
   "execution_count": 26,
   "metadata": {},
   "outputs": [
    {
     "data": {
      "image/png": "[encoded data removed]",
      "text/plain": [
       "<Figure size 637.375x288 with 1 Axes>"
      ]
     },
     "metadata": {
      "needs_background": "light"
     },
     "output_type": "display_data"
    }
   ],
   "source": [
    "#Creating a dataframe without the family compositions of \"Average family size\" and \"Average size of families with children\"\n",
    "#and also with only \"All families\" as family type and for \"All parental age groups\" in parent characteristics:\n",
    "df_income = df_family.loc[(df_family['Family composition'] != 'Average size of families with children') &\n",
    "                          (df_family['Family composition'] != 'Average family size') & \n",
    "                          (df_family['Family type'] == 'All families') & \n",
    "                          (df_family['Parent characteristics'] == 'Median total income')]\n",
    "\n",
    "fig9 = sns.catplot(x='Family composition', y='VALUE', hue='REF_DATE', kind='bar', data=df_income, \n",
    "                   palette='RdYlGn', height=4, aspect=8/4)\n",
    "fig9.set(xlabel='Family composition', ylabel='Median income ($)')\n",
    "fig9._legend.set_title(\"Year\")\n",
    "fig9.fig.autofmt_xdate();"
   ]
  },
  {
   "cell_type": "markdown",
   "metadata": {},
   "source": [
    "In general, the average income of all family compositions has increased over the years and families with 2 children seem to have the highest income. For quantifying these observations:"
   ]
  },
  {
   "cell_type": "code",
   "execution_count": 27,
   "metadata": {},
   "outputs": [
    {
     "data": {
      "text/html": [
       "<div>\n",
       "<style scoped>\n",
       "    .dataframe tbody tr th:only-of-type {\n",
       "        vertical-align: middle;\n",
       "    }\n",
       "\n",
       "    .dataframe tbody tr th {\n",
       "        vertical-align: top;\n",
       "    }\n",
       "\n",
       "    .dataframe thead th {\n",
       "        text-align: right;\n",
       "    }\n",
       "</style>\n",
       "<table border=\"1\" class=\"dataframe\">\n",
       "  <thead>\n",
       "    <tr style=\"text-align: right;\">\n",
       "      <th></th>\n",
       "      <th>Family composition</th>\n",
       "      <th>Percent_Change</th>\n",
       "    </tr>\n",
       "  </thead>\n",
       "  <tbody>\n",
       "    <tr>\n",
       "      <th>0</th>\n",
       "      <td>Families with 1 child</td>\n",
       "      <td>0.023856</td>\n",
       "    </tr>\n",
       "    <tr>\n",
       "      <th>1</th>\n",
       "      <td>Families with 2 children</td>\n",
       "      <td>0.027939</td>\n",
       "    </tr>\n",
       "    <tr>\n",
       "      <th>2</th>\n",
       "      <td>Families with 3 or more children</td>\n",
       "      <td>0.024579</td>\n",
       "    </tr>\n",
       "    <tr>\n",
       "      <th>3</th>\n",
       "      <td>Families with no children</td>\n",
       "      <td>0.013718</td>\n",
       "    </tr>\n",
       "  </tbody>\n",
       "</table>\n",
       "</div>"
      ],
      "text/plain": [
       "                 Family composition  Percent_Change\n",
       "0             Families with 1 child        0.023856\n",
       "1          Families with 2 children        0.027939\n",
       "2  Families with 3 or more children        0.024579\n",
       "3         Families with no children        0.013718"
      ]
     },
     "execution_count": 27,
     "metadata": {},
     "output_type": "execute_result"
    }
   ],
   "source": [
    "#Grouping by family composition and year:\n",
    "df_group6 = df_income.groupby(['Family composition', 'REF_DATE']).VALUE.mean().reset_index()\n",
    "\n",
    "#Calculating percent change between each two years for each family composition:\n",
    "df_group6['Percent_Change'] = df_group6['VALUE'].pct_change()\n",
    "\n",
    "#The pct_change() function calculates changes in values compared to their previous row. The year \"2007\" rows can be \n",
    "#dropped since data for their preceding years are not available in the dataframe, and therefore their calculated \n",
    "#pct_change() is meaningless in the context of our analysis.\n",
    "df_group7 = df_group6.loc[df_group6['REF_DATE'] != 2007]\n",
    "\n",
    "#Averaging the percent changes for each family composition:\n",
    "df_group7 = df_group7.groupby(['Family composition']).Percent_Change.mean().reset_index()\n",
    "df_group7"
   ]
  },
  {
   "cell_type": "markdown",
   "metadata": {},
   "source": [
    "As calculated above, families with no children have the lowest rate of income increase over the years with 1.4%. This is while families with 2 children have an average income increase rate twice as that with 2.8%. Families with 1 child and families with 3 or more children have income increase rates of 2.4% and 2.5% respectively."
   ]
  },
  {
   "cell_type": "code",
   "execution_count": 28,
   "metadata": {},
   "outputs": [
    {
     "data": {
      "text/html": [
       "<div>\n",
       "<style scoped>\n",
       "    .dataframe tbody tr th:only-of-type {\n",
       "        vertical-align: middle;\n",
       "    }\n",
       "\n",
       "    .dataframe tbody tr th {\n",
       "        vertical-align: top;\n",
       "    }\n",
       "\n",
       "    .dataframe thead th {\n",
       "        text-align: right;\n",
       "    }\n",
       "</style>\n",
       "<table border=\"1\" class=\"dataframe\">\n",
       "  <thead>\n",
       "    <tr style=\"text-align: right;\">\n",
       "      <th></th>\n",
       "      <th>Family composition</th>\n",
       "      <th>VALUE</th>\n",
       "    </tr>\n",
       "  </thead>\n",
       "  <tbody>\n",
       "    <tr>\n",
       "      <th>0</th>\n",
       "      <td>Families with 1 child</td>\n",
       "      <td>77318.181818</td>\n",
       "    </tr>\n",
       "    <tr>\n",
       "      <th>1</th>\n",
       "      <td>Families with 2 children</td>\n",
       "      <td>99589.090909</td>\n",
       "    </tr>\n",
       "    <tr>\n",
       "      <th>2</th>\n",
       "      <td>Families with 3 or more children</td>\n",
       "      <td>91170.909091</td>\n",
       "    </tr>\n",
       "    <tr>\n",
       "      <th>3</th>\n",
       "      <td>Families with no children</td>\n",
       "      <td>70820.909091</td>\n",
       "    </tr>\n",
       "  </tbody>\n",
       "</table>\n",
       "</div>"
      ],
      "text/plain": [
       "                 Family composition         VALUE\n",
       "0             Families with 1 child  77318.181818\n",
       "1          Families with 2 children  99589.090909\n",
       "2  Families with 3 or more children  91170.909091\n",
       "3         Families with no children  70820.909091"
      ]
     },
     "execution_count": 28,
     "metadata": {},
     "output_type": "execute_result"
    }
   ],
   "source": [
    "df_group6_mean = df_group6.groupby(['Family composition']).VALUE.mean().reset_index()\n",
    "df_group6_mean"
   ]
  },
  {
   "cell_type": "markdown",
   "metadata": {},
   "source": [
    "As seen above, the highest income earners are families with 2 children with a median income of 99,600, while families with no children seem to have the lowest average income with median value of 70,800."
   ]
  },
  {
   "cell_type": "code",
   "execution_count": 29,
   "metadata": {},
   "outputs": [
    {
     "data": {
      "image/png": "[encoded data removed]",
      "text/plain": [
       "<Figure size 754x288 with 1 Axes>"
      ]
     },
     "metadata": {
      "needs_background": "light"
     },
     "output_type": "display_data"
    }
   ],
   "source": [
    "fig10 = sns.catplot(x='Family composition', y='VALUE', hue='GEO', kind='point', data=df_income, \n",
    "                   height=4, aspect=8/4)\n",
    "fig10.set(xlabel='Family composition', ylabel='Median income ($)')\n",
    "fig10._legend.set_title(\"City\")\n",
    "fig10.fig.autofmt_xdate();"
   ]
  },
  {
   "cell_type": "markdown",
   "metadata": {},
   "source": [
    "While the median income for all family compositions is similar between Toronto and Vancouver, all family compositions in Calgary have a higher income compared to their similar family compositions in Toronto and Vancouver. Calculations below show families in Calgary having an average 32% and 28% higher income compared to families in Toronto and Vancouver, respectively. "
   ]
  },
  {
   "cell_type": "code",
   "execution_count": 30,
   "metadata": {},
   "outputs": [
    {
     "data": {
      "text/html": [
       "<div>\n",
       "<style scoped>\n",
       "    .dataframe tbody tr th:only-of-type {\n",
       "        vertical-align: middle;\n",
       "    }\n",
       "\n",
       "    .dataframe tbody tr th {\n",
       "        vertical-align: top;\n",
       "    }\n",
       "\n",
       "    .dataframe thead th {\n",
       "        text-align: right;\n",
       "    }\n",
       "</style>\n",
       "<table border=\"1\" class=\"dataframe\">\n",
       "  <thead>\n",
       "    <tr style=\"text-align: right;\">\n",
       "      <th></th>\n",
       "      <th>GEO</th>\n",
       "      <th>Percent_Change</th>\n",
       "    </tr>\n",
       "  </thead>\n",
       "  <tbody>\n",
       "    <tr>\n",
       "      <th>0</th>\n",
       "      <td>Calgary, Alberta</td>\n",
       "      <td>0.324598</td>\n",
       "    </tr>\n",
       "  </tbody>\n",
       "</table>\n",
       "</div>"
      ],
      "text/plain": [
       "                GEO  Percent_Change\n",
       "0  Calgary, Alberta        0.324598"
      ]
     },
     "execution_count": 30,
     "metadata": {},
     "output_type": "execute_result"
    }
   ],
   "source": [
    "#Grouping by city and family composition:\n",
    "df_group8 = df_income.groupby(['GEO', 'Family composition']).VALUE.mean().reset_index()\n",
    "\n",
    "#Creating dataframe for comparing Calgary and Toronto:\n",
    "df_group_cal_tor = df_group8.loc[(df_group8['GEO'] == 'Calgary, Alberta') | (df_group8['GEO'] == 'Toronto, Ontario')]\n",
    "\n",
    "#Sorting to get the following order in \"GEO\": Toronto, Calgary\n",
    "df_group_cal_tor = df_group_cal_tor.sort_values(['GEO', 'Family composition'], ascending=[False, True])\n",
    "\n",
    "#Calculating percent change between Toronto and Calgary for each family composition (gap of 4 rows):\n",
    "df_group_cal_tor['Percent_Change'] = df_group_cal_tor['VALUE'].pct_change(4)\n",
    "\n",
    "#The pct_change(4) function calculates changes in values compared to their 4 previous row. The \"Toronto, Ontario\" rows \n",
    "#can be dropped since their calculated pct_change(4) is meaningless in the context of our analysis.\n",
    "df_group_cal_tor_pct = df_group_cal_tor.loc[df_group_cal_tor['GEO'] != 'Toronto, Ontario']\n",
    "\n",
    "#Averaging the percent changes:\n",
    "df_group_cal_tor_pct = df_group_cal_tor_pct.groupby(['GEO']).Percent_Change.mean().reset_index()\n",
    "df_group_cal_tor_pct"
   ]
  },
  {
   "cell_type": "code",
   "execution_count": 31,
   "metadata": {},
   "outputs": [
    {
     "data": {
      "text/html": [
       "<div>\n",
       "<style scoped>\n",
       "    .dataframe tbody tr th:only-of-type {\n",
       "        vertical-align: middle;\n",
       "    }\n",
       "\n",
       "    .dataframe tbody tr th {\n",
       "        vertical-align: top;\n",
       "    }\n",
       "\n",
       "    .dataframe thead th {\n",
       "        text-align: right;\n",
       "    }\n",
       "</style>\n",
       "<table border=\"1\" class=\"dataframe\">\n",
       "  <thead>\n",
       "    <tr style=\"text-align: right;\">\n",
       "      <th></th>\n",
       "      <th>GEO</th>\n",
       "      <th>Percent_Change</th>\n",
       "    </tr>\n",
       "  </thead>\n",
       "  <tbody>\n",
       "    <tr>\n",
       "      <th>0</th>\n",
       "      <td>Calgary, Alberta</td>\n",
       "      <td>0.282355</td>\n",
       "    </tr>\n",
       "  </tbody>\n",
       "</table>\n",
       "</div>"
      ],
      "text/plain": [
       "                GEO  Percent_Change\n",
       "0  Calgary, Alberta        0.282355"
      ]
     },
     "execution_count": 31,
     "metadata": {},
     "output_type": "execute_result"
    }
   ],
   "source": [
    "#Grouping by city and family composition:\n",
    "df_group8 = df_income.groupby(['GEO', 'Family composition']).VALUE.mean().reset_index()\n",
    "\n",
    "#Creating dataframe for comparing Calgary and Vancouver:\n",
    "df_group_cal_van = df_group8.loc[(df_group8['GEO'] == 'Calgary, Alberta') | (df_group8['GEO'] == 'Vancouver, British Columbia')]\n",
    "\n",
    "#Sorting to get the following order in \"GEO\": Vancouver, Calgary\n",
    "df_group_cal_van = df_group_cal_van.sort_values(['GEO', 'Family composition'], ascending=[False, True])\n",
    "\n",
    "#Calculating percent change between Vancouver and Calgary for each family composition (gap of 4 rows):\n",
    "df_group_cal_van['Percent_Change'] = df_group_cal_van['VALUE'].pct_change(4)\n",
    "\n",
    "#The pct_change(4) function calculates changes in values compared to their 4 previous row. \n",
    "#The \"Vancouver, British Columbia\" rows can be dropped since their calculated pct_change(4) is meaningless in the \n",
    "#context of our analysis.\n",
    "df_group_cal_van_pct = df_group_cal_van.loc[df_group_cal_van['GEO'] != 'Vancouver, British Columbia']\n",
    "\n",
    "#Averaging the percent changes:\n",
    "df_group_cal_van_pct = df_group_cal_van_pct.groupby(['GEO']).Percent_Change.mean().reset_index()\n",
    "df_group_cal_van_pct"
   ]
  },
  {
   "cell_type": "code",
   "execution_count": 32,
   "metadata": {},
   "outputs": [
    {
     "data": {
      "image/png": "[encoded data removed]",
      "text/plain": [
       "<Figure size 637.375x288 with 1 Axes>"
      ]
     },
     "metadata": {
      "needs_background": "light"
     },
     "output_type": "display_data"
    }
   ],
   "source": [
    "fig11 = sns.catplot(x='GEO', y='VALUE', hue='REF_DATE', kind='bar', data=df_income, \n",
    "                   palette='RdYlGn', height=4, aspect=8/4)\n",
    "fig11.set(xlabel='City', ylabel='Median income ($)')\n",
    "fig11._legend.set_title(\"Year\")\n",
    "fig11.fig.autofmt_xdate();"
   ]
  },
  {
   "cell_type": "markdown",
   "metadata": {},
   "source": [
    "The plot above shows a general increase in average income from 2007 to 2017 for Toronto and Vancouver. Calgary follows an increasing trend from 2007 to 2014 which is then followed by a slight decreasing trend. However, even with the slight decrease, Calgary seems to have the highest average income among the three cities."
   ]
  },
  {
   "cell_type": "code",
   "execution_count": 33,
   "metadata": {},
   "outputs": [
    {
     "data": {
      "text/html": [
       "<div>\n",
       "<style scoped>\n",
       "    .dataframe tbody tr th:only-of-type {\n",
       "        vertical-align: middle;\n",
       "    }\n",
       "\n",
       "    .dataframe tbody tr th {\n",
       "        vertical-align: top;\n",
       "    }\n",
       "\n",
       "    .dataframe thead th {\n",
       "        text-align: right;\n",
       "    }\n",
       "</style>\n",
       "<table border=\"1\" class=\"dataframe\">\n",
       "  <thead>\n",
       "    <tr style=\"text-align: right;\">\n",
       "      <th></th>\n",
       "      <th>GEO</th>\n",
       "      <th>VALUE</th>\n",
       "    </tr>\n",
       "  </thead>\n",
       "  <tbody>\n",
       "    <tr>\n",
       "      <th>0</th>\n",
       "      <td>Calgary, Alberta</td>\n",
       "      <td>99965.909091</td>\n",
       "    </tr>\n",
       "    <tr>\n",
       "      <th>1</th>\n",
       "      <td>Toronto, Ontario</td>\n",
       "      <td>75897.727273</td>\n",
       "    </tr>\n",
       "    <tr>\n",
       "      <th>2</th>\n",
       "      <td>Vancouver, British Columbia</td>\n",
       "      <td>78310.681818</td>\n",
       "    </tr>\n",
       "  </tbody>\n",
       "</table>\n",
       "</div>"
      ],
      "text/plain": [
       "                           GEO         VALUE\n",
       "0             Calgary, Alberta  99965.909091\n",
       "1             Toronto, Ontario  75897.727273\n",
       "2  Vancouver, British Columbia  78310.681818"
      ]
     },
     "execution_count": 33,
     "metadata": {},
     "output_type": "execute_result"
    }
   ],
   "source": [
    "#Grouping by city:\n",
    "df_group9 = df_income.groupby(['GEO']).VALUE.mean().reset_index()\n",
    "df_group9"
   ]
  },
  {
   "cell_type": "markdown",
   "metadata": {},
   "source": [
    "As shown above, while the median income for families in Calgary is close to 100,000, the average income for families in Toronto and Vancouver is around 75,900 and 78,300, respectively. For quantifying the average rate of income increase over the years in these three cities:"
   ]
  },
  {
   "cell_type": "code",
   "execution_count": 34,
   "metadata": {},
   "outputs": [
    {
     "data": {
      "text/html": [
       "<div>\n",
       "<style scoped>\n",
       "    .dataframe tbody tr th:only-of-type {\n",
       "        vertical-align: middle;\n",
       "    }\n",
       "\n",
       "    .dataframe tbody tr th {\n",
       "        vertical-align: top;\n",
       "    }\n",
       "\n",
       "    .dataframe thead th {\n",
       "        text-align: right;\n",
       "    }\n",
       "</style>\n",
       "<table border=\"1\" class=\"dataframe\">\n",
       "  <thead>\n",
       "    <tr style=\"text-align: right;\">\n",
       "      <th></th>\n",
       "      <th>GEO</th>\n",
       "      <th>Percent_Change</th>\n",
       "    </tr>\n",
       "  </thead>\n",
       "  <tbody>\n",
       "    <tr>\n",
       "      <th>0</th>\n",
       "      <td>Calgary, Alberta</td>\n",
       "      <td>0.015388</td>\n",
       "    </tr>\n",
       "    <tr>\n",
       "      <th>1</th>\n",
       "      <td>Toronto, Ontario</td>\n",
       "      <td>0.025219</td>\n",
       "    </tr>\n",
       "    <tr>\n",
       "      <th>2</th>\n",
       "      <td>Vancouver, British Columbia</td>\n",
       "      <td>0.030948</td>\n",
       "    </tr>\n",
       "  </tbody>\n",
       "</table>\n",
       "</div>"
      ],
      "text/plain": [
       "                           GEO  Percent_Change\n",
       "0             Calgary, Alberta        0.015388\n",
       "1             Toronto, Ontario        0.025219\n",
       "2  Vancouver, British Columbia        0.030948"
      ]
     },
     "execution_count": 34,
     "metadata": {},
     "output_type": "execute_result"
    }
   ],
   "source": [
    "#Grouping by city and year:\n",
    "df_group10 = df_income.groupby(['GEO', 'REF_DATE']).VALUE.mean().reset_index()\n",
    "\n",
    "#Calculating percent change between each two years for each city:\n",
    "df_group10['Percent_Change'] = df_group10['VALUE'].pct_change()\n",
    "\n",
    "#The pct_change() function calculates changes in values compared to their previous row. The year \"2007\" rows can be \n",
    "#dropped since data for their preceding years are not available in the dataframe, and therefore their calculated \n",
    "#pct_change() is meaningless in the context of our analysis.\n",
    "df_group11 = df_group10.loc[df_group10['REF_DATE'] != 2007]\n",
    "\n",
    "#Averaging the percent changes for each city:\n",
    "df_group11 = df_group11.groupby(['GEO']).Percent_Change.mean().reset_index()\n",
    "df_group11"
   ]
  },
  {
   "cell_type": "markdown",
   "metadata": {},
   "source": [
    "Even though Calgary had the highest average income among the three cities, it has the lowest rate of income increase compared to Toronto and Vancouver. While for the period of 2007 to 2017, Toronto and Vancouver have average income increase rates of 2.5% and 3.1%, respectively, Calgary has an average income increase rate of only 1.6%, almost half of Vancouver's rate."
   ]
  }
 ],
 "metadata": {
  "kernelspec": {
   "display_name": "Python 3",
   "language": "python",
   "name": "python3"
  },
  "language_info": {
   "codemirror_mode": {
    "name": "ipython",
    "version": 3
   },
   "file_extension": ".py",
   "mimetype": "text/x-python",
   "name": "python",
   "nbconvert_exporter": "python",
   "pygments_lexer": "ipython3",
   "version": "3.7.6"
  }
 },
 "nbformat": 4,
 "nbformat_minor": 4
}
